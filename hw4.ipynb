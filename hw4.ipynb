{
 "cells": [
  {
   "cell_type": "markdown",
   "metadata": {},
   "source": [
    "# 2"
   ]
  },
  {
   "cell_type": "code",
   "execution_count": 3,
   "metadata": {
    "ExecuteTime": {
     "end_time": "2018-11-27T21:34:56.378452Z",
     "start_time": "2018-11-27T21:34:54.075925Z"
    }
   },
   "outputs": [],
   "source": [
    "import numpy as np\n",
    "import cvxpy as cp\n",
    "import matplotlib.pyplot as plt\n",
    "import scipy.linalg as SLA"
   ]
  },
  {
   "cell_type": "code",
   "execution_count": 71,
   "metadata": {
    "ExecuteTime": {
     "end_time": "2018-11-27T22:45:10.057003Z",
     "start_time": "2018-11-27T22:45:10.014983Z"
    }
   },
   "outputs": [],
   "source": [
    "N = 50\n",
    "\n",
    "def gen_x(n):\n",
    "    '''return a list of x'''\n",
    "    return np.array([i/(n-1) for i in range(n)])\n",
    "\n",
    "def gen_f(x):\n",
    "    '''return a list of f(x)'''\n",
    "    ff = []\n",
    "    for xx in x:\n",
    "        tmp = 0\n",
    "        for k in range(4):\n",
    "            if xx >= (k+1)/5:\n",
    "                 tmp += 10\n",
    "        ff.append(tmp) \n",
    "    return np.array(ff)\n",
    "\n",
    "def gen_y(n,f):\n",
    "    '''return a list of y'''\n",
    "    yy = np.zeros(n)\n",
    "    for i in range(n):\n",
    "        if i == 24:\n",
    "            yy[i] = 0\n",
    "        else:\n",
    "            yy[i] = f[i] + np.random.randn()\n",
    "    return yy\n",
    "\n",
    "def kernel_rbf(x, z, gamma):\n",
    "    '''return the kernel matrix between x and z''' \n",
    "    return np.exp(-gamma*(x-z)*(x-z))\n",
    "\n",
    "def ls_obj_fn(alpha, k, y, lamb):\n",
    "    '''return least square objective function'''\n",
    "    return cp.pnorm(k@alpha - y, p=2)**2 + \\\n",
    "            lamb*cp.pnorm(alpha.T@np.real(SLA.sqrtm(k)), p=2)**2\n",
    "\n",
    "def huber_obj_fn(alpha, k, y, lamb):\n",
    "    '''return huber objective function'''\n",
    "    return cp.sum(cp.huber(k@alpha - y)) + \\\n",
    "            lamb*cp.pnorm(alpha.T@np.real(SLA.sqrtm(k)), p=2)**2\n",
    "\n",
    "def D(n):\n",
    "    '''return D matrix'''\n",
    "    tv = 0\n",
    "    mat = np.zeros((n-1, n))\n",
    "    for i in range(n-1):\n",
    "        mat[i,i] = -1\n",
    "        mat[i,i+1] = 1\n",
    "    return mat\n",
    "\n",
    "def tv_obj_fn(alpha, k, y, lamb1, lamb2):\n",
    "    '''return the objective function including a TV term'''\n",
    "    return cp.pnorm(k@alpha - y, p=2)**2 + \\\n",
    "            lamb1*cp.pnorm(D(len(k))@k@alpha, p=1) + \\\n",
    "            lamb2*cp.pnorm(alpha.T@np.real(SLA.sqrtm(k)), p=2)**2\n",
    "\n",
    "def cvx_optmz(x, y, k, loss_fn, lamb=None, lamb1=None, lamb2=None):\n",
    "    '''do cvxpy optimization and return obtained alpha'''\n",
    "    alpha = cp.Variable(len(x))\n",
    "    if loss_fn == 'ls' or loss_fn == 'constr':\n",
    "        objective = cp.Minimize(ls_obj_fn(alpha, k, y, lamb))\n",
    "    elif loss_fn == 'huber':\n",
    "        objective = cp.Minimize(huber_obj_fn(alpha, k, y, lamb))\n",
    "    elif loss_fn == 'tv':\n",
    "        objective = cp.Minimize(tv_obj_fn(alpha, k, y, lamb1, lamb2))\n",
    "    if loss_fn != 'constr':\n",
    "        prob = cp.Problem(objective)\n",
    "    else:\n",
    "        constrains = [D(len(k))@k@alpha >= 0]\n",
    "        prob = cp.Problem(objective, constrains)\n",
    "    prob.solve()\n",
    "    return alpha.value\n",
    "\n",
    "def bootstrap(X, Y, loss_fn):\n",
    "    '''return best lambda and gamma'''\n",
    "    \n",
    "    obj_list = []\n",
    "    lamb_list = []\n",
    "    gamma_list = []\n",
    "    for gamma in np.arange(33.0, 40.0, 2.0):\n",
    "        lamb = 1.0\n",
    "        while lamb > 1e-4:\n",
    "            obj = 0\n",
    "            for i in range(N):  \n",
    "                # extract training data and validation data\n",
    "                X_tr = np.append(X[0:i], X[i+1:N])\n",
    "                Y_tr = np.append(Y[0:i], Y[i+1:N])\n",
    "                X_va = X[i]\n",
    "                Y_va = Y[i]\n",
    "                # calculate kernel matrix for training and CV\n",
    "                K = kernel_rbf(X_tr[:,np.newaxis],X_tr[np.newaxis,:], gamma)\n",
    "                K_va = np.exp(-gamma*(X_va-X_tr[np.newaxis,:])**2)\n",
    "                # get alpha from cvx optimization\n",
    "                alpha = cvx_optmz(X_tr, Y_tr, K, loss_fn, lamb)\n",
    "                # calculate the loss\n",
    "                if loss_fn == 'ls' or loss_fn == 'constr':\n",
    "                    obj += (cp.pnorm(K_va@alpha - Y_va, p=2)**2).value\n",
    "                elif loss_fn == 'huber':\n",
    "                    obj += (cp.sum(cp.huber(K_va@alpha - Y_va))).value\n",
    "            # store the results for each lambda in one list\n",
    "            obj_list.append(obj)\n",
    "            lamb_list.append(lamb) \n",
    "            gamma_list.append(gamma)\n",
    "            lamb /= 2 \n",
    "    # pick the lamb that makes the total loss least\n",
    "    lamb_best = lamb_list[obj_list.index(np.min(obj_list))]\n",
    "    gamma_best = gamma_list[obj_list.index(np.min(obj_list))] \n",
    "    return lamb_best, gamma_best\n",
    "\n",
    "def bootstrap_tv(X, Y, loss_fn):\n",
    "    '''return the best lamb1, lamb2 and gamma'''\n",
    "    \n",
    "    obj_list = []\n",
    "    lamb1_list = []\n",
    "    lamb2_list = []\n",
    "    gamma_list = []\n",
    "    for gamma in np.arange(33.0, 40.0, 2.0):\n",
    "        lamb1 = 6.0\n",
    "        while lamb1 > 1:\n",
    "            lamb2 = 1.0\n",
    "            while lamb2 > 1e-2:\n",
    "                obj = 0\n",
    "                for i in range(N):  \n",
    "                    # extract training data and validation data\n",
    "                    X_tr = np.append(X[0:i], X[i+1:N])\n",
    "                    Y_tr = np.append(Y[0:i], Y[i+1:N])\n",
    "                    X_va = X[i]\n",
    "                    Y_va = Y[i]\n",
    "                    # calculate kernel matrix for training and CV\n",
    "                    K = kernel_rbf(X_tr[:,np.newaxis],X_tr[np.newaxis,:], gamma)\n",
    "                    K_va = np.exp(-gamma*(X_va-X_tr[np.newaxis,:])**2)\n",
    "                    # get alpha from cvx optimization\n",
    "                    alpha = cvx_optmz(X_tr, Y_tr, K, loss_fn, lamb1=lamb1, lamb2=lamb2)\n",
    "                    # calculate the loss\n",
    "                    if loss_fn == 'tv':\n",
    "                        obj += (cp.pnorm(K_va@alpha - Y_va, p=2)**2).value\n",
    "\n",
    "            # store the results for each lambda in one list\n",
    "                obj_list.append(obj)\n",
    "                lamb1_list.append(lamb1) \n",
    "                lamb2_list.append(lamb2)\n",
    "                gamma_list.append(gamma)\n",
    "                lamb2 /= 2 \n",
    "            lamb1 /= 1.2\n",
    "    # pick the lamb that makes the total loss least\n",
    "    lamb1_best = lamb1_list[obj_list.index(np.min(obj_list))]\n",
    "    lamb2_best = lamb2_list[obj_list.index(np.min(obj_list))]\n",
    "    gamma_best = gamma_list[obj_list.index(np.min(obj_list))]\n",
    "    return lamb1_best, lamb2_best, gamma_best\n",
    "\n",
    "def fn_rbf(X, Y, loss_fn):\n",
    "    '''return rbf f(x)'''\n",
    "    #gamma = cal_gamma(X[:,np.newaxis], X[np.newaxis,:])\n",
    "    \n",
    "    f_list = []\n",
    "    if loss_fn != 'tv':\n",
    "        lamb, gamma = bootstrap(X,Y,loss_fn)\n",
    "        print(gamma)\n",
    "        k = kernel_rbf(X[:,np.newaxis],X[np.newaxis,:], gamma)\n",
    "        alpha = np.array(cvx_optmz(X, Y, k, loss_fn, lamb)).reshape((1,N))\n",
    "    else:\n",
    "        lamb1, lamb2, gamma = bootstrap_tv(X,Y,loss_fn)\n",
    "        k = kernel_rbf(X[:,np.newaxis],X[np.newaxis,:], gamma)\n",
    "        alpha = np.array(cvx_optmz(X, Y, k, loss_fn, lamb1=lamb1, lamb2=lamb2)).reshape((1,N))\n",
    "        \n",
    "    for x in X:\n",
    "        f_list.append(np.sum(alpha * kernel_rbf(x, X, gamma)))\n",
    "    return np.array(f_list)\n",
    "\n",
    "def plot_2(x, y, f, ff):\n",
    "    '''plot of problem 2.a'''\n",
    "    plt.figure()\n",
    "    plt.plot(x, y, 'ro', label = 'original data')\n",
    "    plt.plot(x, f, 'b-', label = 'true f(x)')\n",
    "    plt.plot(x, ff, 'g-', label = 'rbf f(x)')\n",
    "    plt.xlabel('x')\n",
    "    plt.ylabel('y')\n",
    "    plt.legend()\n",
    "    plt.show()"
   ]
  },
  {
   "cell_type": "code",
   "execution_count": 35,
   "metadata": {
    "ExecuteTime": {
     "end_time": "2018-11-27T21:58:26.945529Z",
     "start_time": "2018-11-27T21:58:26.940555Z"
    }
   },
   "outputs": [],
   "source": [
    "X = gen_x(N)\n",
    "F = gen_f(X)\n",
    "Y = gen_y(N,F)"
   ]
  },
  {
   "cell_type": "markdown",
   "metadata": {},
   "source": [
    "## 2.a"
   ]
  },
  {
   "cell_type": "code",
   "execution_count": 65,
   "metadata": {
    "ExecuteTime": {
     "end_time": "2018-11-27T22:28:17.898437Z",
     "start_time": "2018-11-27T22:26:31.559592Z"
    },
    "scrolled": true
   },
   "outputs": [
    {
     "name": "stdout",
     "output_type": "stream",
     "text": [
      "39.0\n"
     ]
    },
    {
     "data": {
      "image/png": "[encoded data removed]",
      "text/plain": [
       "<Figure size 432x288 with 1 Axes>"
      ]
     },
     "metadata": {
      "needs_background": "light"
     },
     "output_type": "display_data"
    }
   ],
   "source": [
    "Fls = fn_rbf(X, Y, 'ls')     \n",
    "plot_2(X,Y,F,Fls)"
   ]
  },
  {
   "cell_type": "markdown",
   "metadata": {},
   "source": [
    "## 2.b"
   ]
  },
  {
   "cell_type": "code",
   "execution_count": 66,
   "metadata": {
    "ExecuteTime": {
     "end_time": "2018-11-27T22:30:48.072017Z",
     "start_time": "2018-11-27T22:28:17.923152Z"
    },
    "scrolled": true
   },
   "outputs": [
    {
     "name": "stdout",
     "output_type": "stream",
     "text": [
      "36.0\n"
     ]
    },
    {
     "data": {
      "image/png": "[encoded data removed]",
      "text/plain": [
       "<Figure size 432x288 with 1 Axes>"
      ]
     },
     "metadata": {
      "needs_background": "light"
     },
     "output_type": "display_data"
    }
   ],
   "source": [
    "Fhuber = fn_rbf(X, Y, 'huber') \n",
    "plot_2(X,Y,F,Fhuber)"
   ]
  },
  {
   "cell_type": "markdown",
   "metadata": {},
   "source": [
    "## 2.c"
   ]
  },
  {
   "cell_type": "code",
   "execution_count": 68,
   "metadata": {
    "ExecuteTime": {
     "end_time": "2018-11-27T22:41:46.576415Z",
     "start_time": "2018-11-27T22:31:07.201907Z"
    }
   },
   "outputs": [
    {
     "data": {
      "image/png": "[encoded data removed]",
      "text/plain": [
       "<Figure size 432x288 with 1 Axes>"
      ]
     },
     "metadata": {
      "needs_background": "light"
     },
     "output_type": "display_data"
    }
   ],
   "source": [
    "Ftv = fn_rbf(X, Y, 'tv') \n",
    "plot_2(X,Y,F,Ftv)"
   ]
  },
  {
   "cell_type": "markdown",
   "metadata": {},
   "source": [
    "## 2.d"
   ]
  },
  {
   "cell_type": "code",
   "execution_count": 69,
   "metadata": {
    "ExecuteTime": {
     "end_time": "2018-11-27T22:44:12.297868Z",
     "start_time": "2018-11-27T22:41:46.627023Z"
    }
   },
   "outputs": [
    {
     "name": "stdout",
     "output_type": "stream",
     "text": [
      "39.0\n"
     ]
    },
    {
     "data": {
      "image/png": "[encoded data removed]",
      "text/plain": [
       "<Figure size 432x288 with 1 Axes>"
      ]
     },
     "metadata": {
      "needs_background": "light"
     },
     "output_type": "display_data"
    }
   ],
   "source": [
    "Fconstr = fn_rbf(X, Y, 'constr') \n",
    "plot_2(X,Y,F,Fconstr)"
   ]
  },
  {
   "cell_type": "markdown",
   "metadata": {},
   "source": [
    "# 3"
   ]
  },
  {
   "cell_type": "code",
   "execution_count": null,
   "metadata": {},
   "outputs": [],
   "source": []
  }
 ],
 "metadata": {
  "kernelspec": {
   "display_name": "Python 3",
   "language": "python",
   "name": "python3"
  },
  "language_info": {
   "codemirror_mode": {
    "name": "ipython",
    "version": 3
   },
   "file_extension": ".py",
   "mimetype": "text/x-python",
   "name": "python",
   "nbconvert_exporter": "python",
   "pygments_lexer": "ipython3",
   "version": "3.6.5"
  },
  "latex_envs": {
   "LaTeX_envs_menu_present": true,
   "autoclose": false,
   "autocomplete": true,
   "bibliofile": "biblio.bib",
   "cite_by": "apalike",
   "current_citInitial": 1,
   "eqLabelWithNumbers": true,
   "eqNumInitial": 1,
   "hotkeys": {
    "equation": "Ctrl-E",
    "itemize": "Ctrl-I"
   },
   "labels_anchors": false,
   "latex_user_defs": false,
   "report_style_numbering": false,
   "user_envs_cfg": false
  },
  "varInspector": {
   "cols": {
    "lenName": 16,
    "lenType": 16,
    "lenVar": 40
   },
   "kernels_config": {
    "python": {
     "delete_cmd_postfix": "",
     "delete_cmd_prefix": "del ",
     "library": "var_list.py",
     "varRefreshCmd": "print(var_dic_list())"
    },
    "r": {
     "delete_cmd_postfix": ") ",
     "delete_cmd_prefix": "rm(",
     "library": "var_list.r",
     "varRefreshCmd": "cat(var_dic_list()) "
    }
   },
   "types_to_exclude": [
    "module",
    "function",
    "builtin_function_or_method",
    "instance",
    "_Feature"
   ],
   "window_display": false
  }
 },
 "nbformat": 4,
 "nbformat_minor": 2
}
