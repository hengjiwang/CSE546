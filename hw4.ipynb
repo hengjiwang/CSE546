{
 "cells": [
  {
   "cell_type": "markdown",
   "metadata": {},
   "source": [
    "# 2"
   ]
  },
  {
   "cell_type": "code",
   "execution_count": 1,
   "metadata": {
    "ExecuteTime": {
     "end_time": "2018-11-29T22:22:28.627682Z",
     "start_time": "2018-11-29T22:22:26.415363Z"
    }
   },
   "outputs": [
    {
     "ename": "ModuleNotFoundError",
     "evalue": "No module named 'cvxpy'",
     "output_type": "error",
     "traceback": [
      "\u001b[0;31m---------------------------------------------------------------------------\u001b[0m",
      "\u001b[0;31mModuleNotFoundError\u001b[0m                       Traceback (most recent call last)",
      "\u001b[0;32m<ipython-input-1-5fe4ea4c5113>\u001b[0m in \u001b[0;36m<module>\u001b[0;34m()\u001b[0m\n\u001b[1;32m      1\u001b[0m \u001b[0;32mimport\u001b[0m \u001b[0mnumpy\u001b[0m \u001b[0;32mas\u001b[0m \u001b[0mnp\u001b[0m\u001b[0;34m\u001b[0m\u001b[0m\n\u001b[0;32m----> 2\u001b[0;31m \u001b[0;32mimport\u001b[0m \u001b[0mcvxpy\u001b[0m \u001b[0;32mas\u001b[0m \u001b[0mcp\u001b[0m\u001b[0;34m\u001b[0m\u001b[0m\n\u001b[0m\u001b[1;32m      3\u001b[0m \u001b[0;32mimport\u001b[0m \u001b[0mmatplotlib\u001b[0m\u001b[0;34m.\u001b[0m\u001b[0mpyplot\u001b[0m \u001b[0;32mas\u001b[0m \u001b[0mplt\u001b[0m\u001b[0;34m\u001b[0m\u001b[0m\n\u001b[1;32m      4\u001b[0m \u001b[0;32mimport\u001b[0m \u001b[0mscipy\u001b[0m\u001b[0;34m.\u001b[0m\u001b[0mlinalg\u001b[0m \u001b[0;32mas\u001b[0m \u001b[0mSLA\u001b[0m\u001b[0;34m\u001b[0m\u001b[0m\n",
      "\u001b[0;31mModuleNotFoundError\u001b[0m: No module named 'cvxpy'"
     ]
    }
   ],
   "source": [
    "import numpy as np\n",
    "import cvxpy as cp\n",
    "import matplotlib.pyplot as plt\n",
    "import scipy.linalg as SLA"
   ]
  },
  {
   "cell_type": "code",
   "execution_count": 23,
   "metadata": {
    "ExecuteTime": {
     "end_time": "2018-11-29T22:59:16.274035Z",
     "start_time": "2018-11-29T22:59:16.227441Z"
    }
   },
   "outputs": [],
   "source": [
    "N = 50\n",
    "\n",
    "def gen_x(n):\n",
    "    '''return a list of x'''\n",
    "    return np.array([i/(n-1) for i in range(n)])\n",
    "\n",
    "def gen_f(x):\n",
    "    '''return a list of f(x)'''\n",
    "    ff = []\n",
    "    for xx in x:\n",
    "        tmp = 0\n",
    "        for k in range(4):\n",
    "            if xx >= (k+1)/5:\n",
    "                 tmp += 10\n",
    "        ff.append(tmp) \n",
    "    return np.array(ff)\n",
    "\n",
    "def gen_y(n,f):\n",
    "    '''return a list of y'''\n",
    "    yy = np.zeros(n)\n",
    "    for i in range(n):\n",
    "        if i == 24:\n",
    "            yy[i] = 0\n",
    "        else:\n",
    "            yy[i] = f[i] + np.random.randn()\n",
    "    return yy\n",
    "\n",
    "def kernel_rbf(x, z, gamma):\n",
    "    '''return the kernel matrix between x and z''' \n",
    "    return np.exp(-gamma*(x-z)*(x-z))\n",
    "\n",
    "def ls_obj_fn(alpha, k, y, lamb):\n",
    "    '''return least square objective function'''\n",
    "    return cp.pnorm(k@alpha - y, p=2)**2 + \\\n",
    "            lamb*cp.pnorm(np.real(SLA.sqrtm(k))@alpha, p=2)**2\n",
    "\n",
    "def huber_obj_fn(alpha, k, y, lamb):\n",
    "    '''return huber objective function'''\n",
    "    return cp.sum(cp.huber(k@alpha - y)) + \\\n",
    "            lamb*cp.pnorm(np.real(SLA.sqrtm(k))@alpha, p=2)**2\n",
    "\n",
    "def D(n):\n",
    "    '''return D matrix'''\n",
    "    tv = 0\n",
    "    mat = np.zeros((n-1, n))\n",
    "    for i in range(n-1):\n",
    "        mat[i,i] = -1\n",
    "        mat[i,i+1] = 1\n",
    "    return mat\n",
    "\n",
    "def tv_obj_fn(alpha, k, y, lamb1, lamb2):\n",
    "    '''return the objective function including a TV term'''\n",
    "    return cp.pnorm(k@alpha - y, p=2)**2 + \\\n",
    "            lamb1*cp.pnorm(D(len(k))@k@alpha, p=1) + \\\n",
    "            lamb2*cp.pnorm(np.real(SLA.sqrtm(k))@alpha, p=2)**2\n",
    "\n",
    "def cvx_optmz(x, y, k, loss_fn, lamb=None, lamb1=None, lamb2=None):\n",
    "    '''do cvxpy optimization and return obtained alpha'''\n",
    "    alpha = cp.Variable(len(x))\n",
    "    if loss_fn == 'ls' or loss_fn == 'constr':\n",
    "        objective = cp.Minimize(ls_obj_fn(alpha, k, y, lamb))\n",
    "    elif loss_fn == 'huber':\n",
    "        objective = cp.Minimize(huber_obj_fn(alpha, k, y, lamb))\n",
    "    elif loss_fn == 'tv':\n",
    "        objective = cp.Minimize(tv_obj_fn(alpha, k, y, lamb1, lamb2))\n",
    "    if loss_fn != 'constr':\n",
    "        prob = cp.Problem(objective)\n",
    "    else:\n",
    "        constrains = [D(len(k))@k@alpha >= 0]\n",
    "        prob = cp.Problem(objective, constrains)\n",
    "    prob.solve()\n",
    "    return alpha.value\n",
    "\n",
    "def bootstrap(X, Y, loss_fn):\n",
    "    '''return best lambda and gamma'''\n",
    "    \n",
    "    obj_list = []\n",
    "    lamb_list = []\n",
    "    gamma_list = []\n",
    "    for gamma in [50, 100, 200, 300]:\n",
    "        lamb = 1.0\n",
    "        while lamb > 1e-4:\n",
    "            obj = 0\n",
    "            for i in range(N):  \n",
    "                # extract training data and validation data\n",
    "                X_tr = np.append(X[0:i], X[i+1:N])\n",
    "                Y_tr = np.append(Y[0:i], Y[i+1:N])\n",
    "                X_va = X[i]\n",
    "                Y_va = Y[i]\n",
    "                # calculate kernel matrix for training and CV\n",
    "                K = kernel_rbf(X_tr[:,np.newaxis],X_tr[np.newaxis,:], gamma)\n",
    "                K_va = np.exp(-gamma*np.square(X_va-X_tr[np.newaxis,:]))\n",
    "                # get alpha from cvx optimization\n",
    "                alpha = cvx_optmz(X_tr, Y_tr, K, loss_fn, lamb)\n",
    "                # calculate the loss\n",
    "                if loss_fn == 'ls' or loss_fn == 'constr':\n",
    "                    obj += (cp.pnorm(K_va@alpha - Y_va, p=2)**2).value\n",
    "                elif loss_fn == 'huber':\n",
    "                    obj += (cp.sum(cp.huber(K_va@alpha - Y_va))).value\n",
    "            # store the results for each lambda in one list\n",
    "            obj_list.append(obj)\n",
    "            lamb_list.append(lamb) \n",
    "            gamma_list.append(gamma)\n",
    "            lamb /= 2 \n",
    "    # pick the lamb that makes the total loss least\n",
    "    lamb_best = lamb_list[obj_list.index(np.min(obj_list))]\n",
    "    gamma_best = gamma_list[obj_list.index(np.min(obj_list))] \n",
    "    return lamb_best, gamma_best\n",
    "\n",
    "def bootstrap_tv(X, Y, loss_fn):\n",
    "    '''return the best lamb1, lamb2 and gamma'''\n",
    "    \n",
    "    obj_list = []\n",
    "    lamb1_list = []\n",
    "    lamb2_list = []\n",
    "    gamma_list = []\n",
    "    for gamma in [200]:\n",
    "        lamb1 = 6.0\n",
    "        while lamb1 > 1:\n",
    "            lamb2 = 1.0\n",
    "            while lamb2 > 1e-2:\n",
    "                obj = 0\n",
    "                for i in range(N):  \n",
    "                    # extract training data and validation data\n",
    "                    X_tr = np.append(X[0:i], X[i+1:N])\n",
    "                    Y_tr = np.append(Y[0:i], Y[i+1:N])\n",
    "                    X_va = X[i]\n",
    "                    Y_va = Y[i]\n",
    "                    # calculate kernel matrix for training and CV\n",
    "                    K = kernel_rbf(X_tr[:,np.newaxis],X_tr[np.newaxis,:], gamma)\n",
    "                    K_va = np.exp(-gamma*(X_va-X_tr[np.newaxis,:])**2)\n",
    "                    # get alpha from cvx optimization\n",
    "                    alpha = cvx_optmz(X_tr, Y_tr, K, loss_fn, lamb1=lamb1, lamb2=lamb2)\n",
    "                    # calculate the loss\n",
    "                    if loss_fn == 'tv':\n",
    "                        obj += (cp.pnorm(K_va@alpha - Y_va, p=2)**2).value\n",
    "\n",
    "            # store the results for each lambda in one list\n",
    "                obj_list.append(obj)\n",
    "                lamb1_list.append(lamb1) \n",
    "                lamb2_list.append(lamb2)\n",
    "                gamma_list.append(gamma)\n",
    "                lamb2 /= 2 \n",
    "            lamb1 /= 1.2\n",
    "    # pick the lamb that makes the total loss least\n",
    "    lamb1_best = lamb1_list[obj_list.index(np.min(obj_list))]\n",
    "    lamb2_best = lamb2_list[obj_list.index(np.min(obj_list))]\n",
    "    gamma_best = gamma_list[obj_list.index(np.min(obj_list))]\n",
    "    return lamb1_best, lamb2_best, gamma_best\n",
    "\n",
    "def fn_rbf(X, Y, loss_fn):\n",
    "    '''return rbf f(x)'''\n",
    "    #gamma = cal_gamma(X[:,np.newaxis], X[np.newaxis,:])\n",
    "    \n",
    "    f_list = []\n",
    "    if loss_fn != 'tv':\n",
    "        lamb, gamma = bootstrap(X,Y,loss_fn)\n",
    "        print(gamma)\n",
    "        k = kernel_rbf(X[:,np.newaxis],X[np.newaxis,:], gamma)\n",
    "        alpha = np.array(cvx_optmz(X, Y, k, loss_fn, lamb)).reshape((1,N))\n",
    "    else:\n",
    "        lamb1, lamb2, gamma = bootstrap_tv(X,Y,loss_fn)\n",
    "        k = kernel_rbf(X[:,np.newaxis],X[np.newaxis,:], gamma)\n",
    "        alpha = np.array(cvx_optmz(X, Y, k, loss_fn, lamb1=lamb1, lamb2=lamb2)).reshape((1,N))\n",
    "        \n",
    "    for x in X:\n",
    "        f_list.append(np.sum(alpha * kernel_rbf(x, X, gamma)))\n",
    "    return np.array(f_list)\n",
    "\n",
    "def plot_2(x, y, f, ff):\n",
    "    '''plot of problem 2.a'''\n",
    "    plt.figure()\n",
    "    plt.plot(x, y, 'ro', label = 'original data')\n",
    "    plt.plot(x, f, 'b-', label = 'true f(x)')\n",
    "    plt.plot(x, ff, 'g-', label = 'rbf f(x)')\n",
    "    plt.xlabel('x')\n",
    "    plt.ylabel('y')\n",
    "    plt.legend()\n",
    "    plt.show()"
   ]
  },
  {
   "cell_type": "code",
   "execution_count": 8,
   "metadata": {
    "ExecuteTime": {
     "end_time": "2018-11-29T22:23:14.319229Z",
     "start_time": "2018-11-29T22:23:14.314574Z"
    }
   },
   "outputs": [],
   "source": [
    "X = gen_x(N)\n",
    "F = gen_f(X)\n",
    "Y = gen_y(N,F)"
   ]
  },
  {
   "cell_type": "markdown",
   "metadata": {},
   "source": [
    "## 2.a"
   ]
  },
  {
   "cell_type": "code",
   "execution_count": 24,
   "metadata": {
    "ExecuteTime": {
     "end_time": "2018-11-29T23:01:05.527786Z",
     "start_time": "2018-11-29T22:59:38.862939Z"
    },
    "scrolled": true
   },
   "outputs": [
    {
     "name": "stdout",
     "output_type": "stream",
     "text": [
      "50\n"
     ]
    },
    {
     "data": {
      "image/png": "[encoded data removed]",
      "text/plain": [
       "<Figure size 432x288 with 1 Axes>"
      ]
     },
     "metadata": {
      "needs_background": "light"
     },
     "output_type": "display_data"
    }
   ],
   "source": [
    "Fls = fn_rbf(X, Y, 'ls')     \n",
    "plot_2(X,Y,F,Fls)"
   ]
  },
  {
   "cell_type": "markdown",
   "metadata": {},
   "source": [
    "## 2.b"
   ]
  },
  {
   "cell_type": "code",
   "execution_count": 10,
   "metadata": {
    "ExecuteTime": {
     "end_time": "2018-11-29T22:27:39.410474Z",
     "start_time": "2018-11-29T22:25:14.602367Z"
    },
    "scrolled": true
   },
   "outputs": [
    {
     "name": "stdout",
     "output_type": "stream",
     "text": [
      "200\n"
     ]
    },
    {
     "data": {
      "image/png": "[encoded data removed]",
      "text/plain": [
       "<Figure size 432x288 with 1 Axes>"
      ]
     },
     "metadata": {
      "needs_background": "light"
     },
     "output_type": "display_data"
    }
   ],
   "source": [
    "Fhuber = fn_rbf(X, Y, 'huber') \n",
    "plot_2(X,Y,F,Fhuber)"
   ]
  },
  {
   "cell_type": "markdown",
   "metadata": {},
   "source": [
    "## 2.c"
   ]
  },
  {
   "cell_type": "code",
   "execution_count": 21,
   "metadata": {
    "ExecuteTime": {
     "end_time": "2018-11-29T22:47:42.011301Z",
     "start_time": "2018-11-29T22:43:47.094941Z"
    }
   },
   "outputs": [
    {
     "data": {
      "image/png": "[encoded data removed]",
      "text/plain": [
       "<Figure size 432x288 with 1 Axes>"
      ]
     },
     "metadata": {
      "needs_background": "light"
     },
     "output_type": "display_data"
    }
   ],
   "source": [
    "Ftv = fn_rbf(X, Y, 'tv') \n",
    "plot_2(X,Y,F,Ftv)"
   ]
  },
  {
   "cell_type": "markdown",
   "metadata": {},
   "source": [
    "## 2.d"
   ]
  },
  {
   "cell_type": "code",
   "execution_count": 22,
   "metadata": {
    "ExecuteTime": {
     "end_time": "2018-11-29T22:50:04.325011Z",
     "start_time": "2018-11-29T22:47:42.042978Z"
    }
   },
   "outputs": [
    {
     "name": "stdout",
     "output_type": "stream",
     "text": [
      "200\n"
     ]
    },
    {
     "data": {
      "image/png": "[encoded data removed]",
      "text/plain": [
       "<Figure size 432x288 with 1 Axes>"
      ]
     },
     "metadata": {
      "needs_background": "light"
     },
     "output_type": "display_data"
    }
   ],
   "source": [
    "Fconstr = fn_rbf(X, Y, 'constr') \n",
    "plot_2(X,Y,F,Fconstr)"
   ]
  },
  {
   "cell_type": "markdown",
   "metadata": {},
   "source": [
    "# 3"
   ]
  },
  {
   "cell_type": "code",
   "execution_count": 54,
   "metadata": {
    "ExecuteTime": {
     "end_time": "2018-11-30T22:43:15.999472Z",
     "start_time": "2018-11-30T22:43:15.344794Z"
    }
   },
   "outputs": [],
   "source": [
    "import torch\n",
    "import torchvision\n",
    "import torchvision.transforms as transforms\n",
    "import numpy as np\n",
    "import torch.nn as nn\n",
    "import torch.nn.functional as F\n",
    "import torch.optim as optim\n",
    "import matplotlib.pyplot as plt"
   ]
  },
  {
   "cell_type": "code",
   "execution_count": 5,
   "metadata": {
    "ExecuteTime": {
     "end_time": "2018-11-30T20:40:39.437963Z",
     "start_time": "2018-11-30T20:38:54.222918Z"
    }
   },
   "outputs": [
    {
     "name": "stdout",
     "output_type": "stream",
     "text": [
      "Files already downloaded and verified\n",
      "Files already downloaded and verified\n"
     ]
    }
   ],
   "source": [
    "# transform the datasets to Tensors of normalized range [-1,1]\n",
    "\n",
    "transform = transforms.Compose(\n",
    "    [transforms.ToTensor(),\n",
    "    transforms.Normalize((0.5, 0.5, 0.5), (0.5, 0.5, 0.5))])\n",
    "\n",
    "trainset = torchvision.datasets.CIFAR10(root='./data', train=True,\n",
    "                                        download=True, transform=transform)\n",
    "trainloader = torch.utils.data.DataLoader(trainset, batch_size=4,\n",
    "                                          shuffle=True, num_workers=2)\n",
    "\n",
    "testset = torchvision.datasets.CIFAR10(root='./data', train=False,\n",
    "                                       download=True, transform=transform)\n",
    "testloader = torch.utils.data.DataLoader(testset, batch_size=4,\n",
    "                                         shuffle=False, num_workers=2)\n",
    "\n",
    "classes = ('plane', 'car', 'bird', 'cat',\n",
    "           'deer', 'dog', 'frog', 'horse', 'ship', 'truck')"
   ]
  },
  {
   "cell_type": "code",
   "execution_count": 6,
   "metadata": {
    "ExecuteTime": {
     "end_time": "2018-11-30T20:40:46.159526Z",
     "start_time": "2018-11-30T20:40:46.154047Z"
    }
   },
   "outputs": [],
   "source": [
    "class Net1(nn.Module):\n",
    "    def __init__(self):\n",
    "        super(Net1, self).__init__()\n",
    "        self.fc1 = nn.Linear(32*32*3, 10)\n",
    "    \n",
    "    def forward(self, x):\n",
    "        x = x.view(-1, 32*32*3)\n",
    "        x = self.fc1(x)\n",
    "        return x"
   ]
  },
  {
   "cell_type": "code",
   "execution_count": 7,
   "metadata": {
    "ExecuteTime": {
     "end_time": "2018-11-30T20:40:46.820113Z",
     "start_time": "2018-11-30T20:40:46.814175Z"
    }
   },
   "outputs": [],
   "source": [
    "class Net2(nn.Module):\n",
    "    def __init__(self, M):\n",
    "        super(Net2, self).__init__()\n",
    "        self.fc1 = nn.Linear(32*32*3, M)\n",
    "        self.fc2 = nn.Linear(M, 10)\n",
    "    \n",
    "    def forward(self, x):\n",
    "        x = x.view(-1, 32*32*3)\n",
    "        x = F.relu(self.fc1(x))\n",
    "        x = self.fc2(x)\n",
    "        return x"
   ]
  },
  {
   "cell_type": "code",
   "execution_count": 79,
   "metadata": {
    "ExecuteTime": {
     "end_time": "2018-12-01T02:25:36.806427Z",
     "start_time": "2018-12-01T02:25:36.798279Z"
    }
   },
   "outputs": [],
   "source": [
    "class Net3(nn.Module):\n",
    "    def __init__(self, M, p, N):\n",
    "        super(Net3, self).__init__()\n",
    "        self.conv1 = nn.Conv2d(3, M, p)\n",
    "        self.pool = nn.MaxPool2d(N,N)\n",
    "        self.fc1 = nn.Linear(M*(int((33-p)/N))**2, 10)\n",
    "        \n",
    "    def forward(self, x):\n",
    "        x = self.pool(F.relu(self.conv1(x)))\n",
    "        x = x.view(-1, self.num_flat_features(x))\n",
    "        x = self.fc1(x)\n",
    "        return x\n",
    "        \n",
    "    def num_flat_features(self, x):\n",
    "        size = x.size()[1:] # except the batch dimension\n",
    "        num_features = 1\n",
    "        for s in size:\n",
    "            num_features *= s\n",
    "        return num_features"
   ]
  },
  {
   "cell_type": "code",
   "execution_count": 9,
   "metadata": {
    "ExecuteTime": {
     "end_time": "2018-11-30T20:40:48.308754Z",
     "start_time": "2018-11-30T20:40:48.297331Z"
    }
   },
   "outputs": [],
   "source": [
    "class Net4(nn.Module):\n",
    "    def __init__(self, M1, M2, M3, p):\n",
    "        super(Net4, self).__init__()\n",
    "        self.conv1 = nn.Conv2d(3,M1,p)\n",
    "        self.pool = nn.MaxPool2d(2,2)\n",
    "        self.conv2 = nn.Conv2d(M1,M2,p)\n",
    "        self.fc1 = nn.Linear(M2*p*p, 120)\n",
    "        self.fc2 = nn.Linear(120, M3)\n",
    "        self.fc3 = nn.Linear(M3, 10)\n",
    "    \n",
    "    def forward(self, x):\n",
    "        x = self.pool(F.relu(self.conv1(x)))\n",
    "        x = self.pool(F.relu(self.conv2(x)))\n",
    "        x = x.view(-1, self.num_flat_features(x))\n",
    "        x = F.relu(self.fc1(x))\n",
    "        x = F.relu(self.fc2(x))\n",
    "        x = self.fc3(x)\n",
    "        return x\n",
    "    \n",
    "    def num_flat_features(self, x):\n",
    "        size = x.size()[1:] # except the batch dimension\n",
    "        num_features = 1\n",
    "        for s in size:\n",
    "            num_features *= s\n",
    "        return num_features"
   ]
  },
  {
   "cell_type": "code",
   "execution_count": 27,
   "metadata": {
    "ExecuteTime": {
     "end_time": "2018-11-30T21:47:18.868423Z",
     "start_time": "2018-11-30T21:47:18.857549Z"
    }
   },
   "outputs": [],
   "source": [
    "def train_and_test(net, lr, momentum):\n",
    "    criterion = nn.CrossEntropyLoss()\n",
    "    optimizer = optim.SGD(net.parameters(), lr, momentum)\n",
    "    accuracy_trs = []\n",
    "    accuracy_tes = []\n",
    "    for epoch in range(12): # loop over the dataset multiple times\n",
    "        running_loss = 0.0\n",
    "        total_tr = 0\n",
    "        correct_tr = 0\n",
    "        for i, data in enumerate(trainloader, 0):\n",
    "            # get the inputs\n",
    "            inputs, labels = data\n",
    "\n",
    "            # zero the parameter gradients\n",
    "            optimizer.zero_grad()\n",
    "\n",
    "            # forward + backward + optimize\n",
    "\n",
    "            outputs = net(inputs)\n",
    "            loss = criterion(outputs, labels)\n",
    "            loss.backward()\n",
    "            optimizer.step()\n",
    "\n",
    "            # compute training corrections\n",
    "            running_loss += loss.item()\n",
    "            _,predicted = torch.max(outputs.data, 1)\n",
    "            total_tr += labels.size(0)\n",
    "            correct_tr += (predicted == labels).sum().item()\n",
    "\n",
    "        # compute test corrections    \n",
    "        correct_te = 0\n",
    "        total_te = 0\n",
    "        with torch.no_grad():\n",
    "            for data in testloader:\n",
    "                images, labels = data\n",
    "                outputs = net(images)\n",
    "                _,predicted = torch.max(outputs.data, 1)\n",
    "                total_te += labels.size(0)\n",
    "                correct_te += (predicted == labels).sum().item()\n",
    "                \n",
    "        accuracy_trs.append(correct_tr / total_tr)\n",
    "        accuracy_tes.append(correct_te / total_te)\n",
    "        #if best == True:\n",
    "        #    print('epoch %d -- training accuracy is : %d %%; testing accuracy is: %d %%' %\\\n",
    "        #      (epoch+1, 100*accuracy_trs[-1], 100*accuracy_tes[-1]))\n",
    "    return accuracy_trs, accuracy_tes"
   ]
  },
  {
   "cell_type": "code",
   "execution_count": 91,
   "metadata": {
    "ExecuteTime": {
     "end_time": "2018-12-01T09:22:58.942900Z",
     "start_time": "2018-12-01T09:22:58.938170Z"
    }
   },
   "outputs": [],
   "source": [
    "def gen_index_a(x1, x2):\n",
    "    inds = []\n",
    "    for ii in range(len(x1)):\n",
    "        for jj in range(len(x2)):\n",
    "            inds.append((ii, jj))\n",
    "    np.random.shuffle(inds)\n",
    "    return inds"
   ]
  },
  {
   "cell_type": "code",
   "execution_count": 62,
   "metadata": {
    "ExecuteTime": {
     "end_time": "2018-11-30T22:47:55.320331Z",
     "start_time": "2018-11-30T22:47:55.315435Z"
    }
   },
   "outputs": [],
   "source": [
    "def gen_index_b(x1, x2, x3):\n",
    "    inds = []\n",
    "    for ii in range(len(x1)):\n",
    "        for jj in range(len(x2)):\n",
    "            for kk in range(len(x3)):\n",
    "                inds.append((ii, jj, kk))\n",
    "    np.random.shuffle(inds)\n",
    "    return inds"
   ]
  },
  {
   "cell_type": "code",
   "execution_count": 69,
   "metadata": {
    "ExecuteTime": {
     "end_time": "2018-12-01T02:10:23.527173Z",
     "start_time": "2018-12-01T02:10:23.516431Z"
    }
   },
   "outputs": [],
   "source": [
    "def gen_index_c(x1, x2, x3, x4, x5):\n",
    "    inds = []\n",
    "    for ii in range(len(x1)):\n",
    "        for jj in range(len(x2)):\n",
    "            for kk in range(len(x3)):\n",
    "                for mm in range(len(x4)):\n",
    "                    for nn in range(len(x5)):\n",
    "                        inds.append((ii, jj, kk, mm, nn))\n",
    "    np.random.shuffle(inds)\n",
    "    return inds"
   ]
  },
  {
   "cell_type": "code",
   "execution_count": 52,
   "metadata": {
    "ExecuteTime": {
     "end_time": "2018-11-30T22:43:06.780465Z",
     "start_time": "2018-11-30T22:43:06.773873Z"
    }
   },
   "outputs": [],
   "source": [
    "def plot_3(accu_trs, accu_tes):\n",
    "    '''plots for problem 3'''\n",
    "    x_axis = [j+1 for j in range(len(accu_trs))]\n",
    "    plt.figure()\n",
    "    plt.plot(x_axis, accu_trs, 'bo-', label = 'training accuracy')\n",
    "    plt.plot(x_axis, accu_tes, 'ro-', label = 'test accuracy')\n",
    "    plt.xlabel('iteration steps')\n",
    "    plt.ylabel('classification accuracies')\n",
    "    plt.legend()\n",
    "    plt.show()"
   ]
  },
  {
   "cell_type": "markdown",
   "metadata": {},
   "source": [
    "## 3.a"
   ]
  },
  {
   "cell_type": "code",
   "execution_count": 92,
   "metadata": {
    "ExecuteTime": {
     "end_time": "2018-12-01T09:42:40.164807Z",
     "start_time": "2018-12-01T09:23:01.755910Z"
    }
   },
   "outputs": [
    {
     "name": "stdout",
     "output_type": "stream",
     "text": [
      "momentum: 1.500000; lr: 0.000100; accuracy: 0.100000\n",
      "momentum: 0.500000; lr: 0.000100; accuracy: 0.409200\n",
      "momentum: 0.500000; lr: 0.000010; accuracy: 0.382300\n",
      "momentum: 0.500000; lr: 0.001000; accuracy: 0.389800\n",
      "momentum: 0.900000; lr: 0.000010; accuracy: 0.407500\n",
      "momentum: 0.900000; lr: 0.001000; accuracy: 0.333800\n",
      "momentum: 2.000000; lr: 0.001000; accuracy: 0.100000\n",
      "momentum: 4.000000; lr: 0.000100; accuracy: 0.100000\n"
     ]
    }
   ],
   "source": [
    "last_accu = []\n",
    "momentum_list = [0.2, 0.5, 0.9, 1.5, 2, 4]\n",
    "lr_list = [1e-5, 1e-4, 1e-3, 1e-2]\n",
    "all_tr = []\n",
    "all_te = []\n",
    "momentums = []\n",
    "lrs = []\n",
    "inds = gen_index_a(momentum_list, lr_list)\n",
    "\n",
    "for (i,j) in inds[0:8]:\n",
    "    \n",
    "    momentum = momentum_list[i]\n",
    "    lr = lr_list[j]\n",
    "    momentums.append(momentum)\n",
    "    lrs.append(lr)\n",
    "    \n",
    "    net1 = Net1()\n",
    "    accu_trs, accu_tes = train_and_test(net1, lr, momentum)\n",
    "\n",
    "    all_tr.append(accu_trs)\n",
    "    all_te.append(accu_tes)\n",
    "\n",
    "    accu_te = accu_tes[-1]\n",
    "    last_accu.append(accu_te)\n",
    "    print('momentum: %f; lr: %f; accuracy: %f' % (momentum, lr, accu_te))"
   ]
  },
  {
   "cell_type": "code",
   "execution_count": 93,
   "metadata": {
    "ExecuteTime": {
     "end_time": "2018-12-01T09:42:40.195741Z",
     "start_time": "2018-12-01T09:42:40.191636Z"
    }
   },
   "outputs": [],
   "source": [
    "best_index = last_accu.index(np.max(last_accu))\n",
    "\n",
    "momentum_best = momentums[best_index]\n",
    "lr_best = lrs[best_index]\n",
    "accu_trs = all_tr[best_index]\n",
    "accu_tes = all_te[best_index]"
   ]
  },
  {
   "cell_type": "code",
   "execution_count": 94,
   "metadata": {
    "ExecuteTime": {
     "end_time": "2018-12-01T09:42:40.224971Z",
     "start_time": "2018-12-01T09:42:40.218950Z"
    }
   },
   "outputs": [
    {
     "name": "stdout",
     "output_type": "stream",
     "text": [
      "Hyper-parameters -- momentum: 0.500000; lr: 0.000100\n"
     ]
    }
   ],
   "source": [
    "print('Hyper-parameters -- momentum: %f; lr: %f' % \\\n",
    "      (momentum_best, lr_best))"
   ]
  },
  {
   "cell_type": "code",
   "execution_count": 95,
   "metadata": {
    "ExecuteTime": {
     "end_time": "2018-12-01T09:42:40.415957Z",
     "start_time": "2018-12-01T09:42:40.249096Z"
    }
   },
   "outputs": [
    {
     "data": {
      "image/png": "[encoded data removed]",
      "text/plain": [
       "<Figure size 432x288 with 1 Axes>"
      ]
     },
     "metadata": {
      "needs_background": "light"
     },
     "output_type": "display_data"
    }
   ],
   "source": [
    "plot_3(accu_trs, accu_tes)"
   ]
  },
  {
   "cell_type": "markdown",
   "metadata": {},
   "source": [
    "## 3.b"
   ]
  },
  {
   "cell_type": "code",
   "execution_count": 63,
   "metadata": {
    "ExecuteTime": {
     "end_time": "2018-12-01T00:57:38.238418Z",
     "start_time": "2018-11-30T22:48:05.835488Z"
    }
   },
   "outputs": [
    {
     "name": "stdout",
     "output_type": "stream",
     "text": [
      "M: 100; momentum: 1.500000; lr: 0.001000; accuracy: 0.100000\n",
      "M: 100; momentum: 0.500000; lr: 0.010000; accuracy: 0.470800\n",
      "M: 500; momentum: 0.500000; lr: 0.001000; accuracy: 0.533300\n",
      "M: 50; momentum: 1.500000; lr: 0.000010; accuracy: 0.100000\n",
      "M: 100; momentum: 0.900000; lr: 0.010000; accuracy: 0.100000\n",
      "M: 500; momentum: 1.500000; lr: 0.000010; accuracy: 0.100000\n",
      "M: 500; momentum: 0.200000; lr: 0.000100; accuracy: 0.460300\n",
      "M: 500; momentum: 0.500000; lr: 0.000100; accuracy: 0.477700\n"
     ]
    }
   ],
   "source": [
    "last_accu = []\n",
    "M_list = [50, 100, 200, 500, 1000]\n",
    "momentum_list = [0.2, 0.5, 0.9, 1.5]\n",
    "lr_list = [1e-5, 1e-4, 1e-3, 1e-2]\n",
    "all_tr = []\n",
    "all_te = []\n",
    "momentums = []\n",
    "lrs = []\n",
    "Ms = []\n",
    "inds = gen_index_b(momentum_list, lr_list, M_list)\n",
    "\n",
    "for (i, j, k) in inds[0:8]:\n",
    "    \n",
    "    momentum = momentum_list[i]\n",
    "    lr = lr_list[j]\n",
    "    M = M_list[k]\n",
    "    momentums.append(momentum)\n",
    "    lrs.append(lr)\n",
    "    Ms.append(M)\n",
    "    \n",
    "    net2 = Net2(M)\n",
    "    accu_trs, accu_tes = train_and_test(net2, lr, momentum)\n",
    "    \n",
    "    all_tr.append(accu_trs)\n",
    "    all_te.append(accu_tes)\n",
    "    \n",
    "    accu_te = accu_tes[-1]\n",
    "    last_accu.append(accu_te)\n",
    "    print('M: %d; momentum: %f; lr: %f; accuracy: %f' % (M, momentum, lr, accu_te))\n",
    "\n",
    "best_index = last_accu.index(np.max(last_accu))\n",
    "\n",
    "momentum_best = momentums[best_index]\n",
    "lr_best = lrs[best_index]\n",
    "M_best = Ms[best_index]\n",
    "accu_trs = all_tr[best_index]\n",
    "accu_tes = all_te[best_index]"
   ]
  },
  {
   "cell_type": "code",
   "execution_count": 65,
   "metadata": {
    "ExecuteTime": {
     "end_time": "2018-12-01T00:57:38.502585Z",
     "start_time": "2018-12-01T00:57:38.497972Z"
    }
   },
   "outputs": [
    {
     "name": "stdout",
     "output_type": "stream",
     "text": [
      "Hyper-parameters -- M: 500; momentum: 0.500000; lr: 0.001000\n"
     ]
    }
   ],
   "source": [
    "print('Hyper-parameters -- M: %d; momentum: %f; lr: %f' % \\\n",
    "      (M_best, momentum_best, lr_best))"
   ]
  },
  {
   "cell_type": "code",
   "execution_count": 64,
   "metadata": {
    "ExecuteTime": {
     "end_time": "2018-12-01T00:57:38.471349Z",
     "start_time": "2018-12-01T00:57:38.276892Z"
    }
   },
   "outputs": [
    {
     "data": {
      "image/png": "[encoded data removed]",
      "text/plain": [
       "<Figure size 432x288 with 1 Axes>"
      ]
     },
     "metadata": {
      "needs_background": "light"
     },
     "output_type": "display_data"
    }
   ],
   "source": [
    "plot_3(accu_trs, accu_tes)"
   ]
  },
  {
   "cell_type": "markdown",
   "metadata": {},
   "source": [
    "## 3.c"
   ]
  },
  {
   "cell_type": "code",
   "execution_count": 86,
   "metadata": {
    "ExecuteTime": {
     "end_time": "2018-12-01T08:26:13.770511Z",
     "start_time": "2018-12-01T02:58:30.967670Z"
    }
   },
   "outputs": [
    {
     "name": "stdout",
     "output_type": "stream",
     "text": [
      "momentum: 1.200000; lr: 0.000010; M: 500; p: 3; N: 14; accuracy: 0.100\n",
      "momentum: 0.900000; lr: 0.001000; M: 500; p: 10; N: 4; accuracy: 0.633\n",
      "momentum: 0.200000; lr: 0.010000; M: 50; p: 5; N: 18; accuracy: 0.490\n",
      "momentum: 0.500000; lr: 0.000010; M: 50; p: 2; N: 14; accuracy: 0.258\n",
      "momentum: 0.500000; lr: 0.010000; M: 500; p: 2; N: 18; accuracy: 0.413\n",
      "momentum: 1.200000; lr: 0.000010; M: 200; p: 10; N: 4; accuracy: 0.100\n",
      "momentum: 0.900000; lr: 0.000010; M: 50; p: 10; N: 14; accuracy: 0.340\n",
      "momentum: 1.200000; lr: 0.000100; M: 50; p: 5; N: 18; accuracy: 0.100\n",
      "momentum: 0.200000; lr: 0.000100; M: 500; p: 3; N: 18; accuracy: 0.308\n",
      "momentum: 0.900000; lr: 0.000100; M: 200; p: 2; N: 14; accuracy: 0.485\n",
      "momentum: 1.200000; lr: 0.010000; M: 200; p: 5; N: 14; accuracy: 0.100\n",
      "momentum: 0.500000; lr: 0.000010; M: 50; p: 2; N: 18; accuracy: 0.140\n"
     ]
    }
   ],
   "source": [
    "last_accu = []\n",
    "momentum_list = [0.2, 0.5, 0.9, 1.2]\n",
    "lr_list = [1e-5, 1e-4, 1e-3, 1e-2]\n",
    "M_list = [50, 100, 200, 500]\n",
    "p_list = [2, 3, 5, 10]\n",
    "N_list = [4, 14, 18]\n",
    "\n",
    "all_tr = []\n",
    "all_te = []\n",
    "\n",
    "momentums = []\n",
    "lrs = []\n",
    "Ms = []\n",
    "ps = []\n",
    "Ns = []\n",
    "inds = gen_index_c(momentum_list, lr_list, M_list, p_list, N_list)\n",
    "\n",
    "for (j1, j2, j3, j4, j5) in inds[0:12]:\n",
    "    \n",
    "    momentum = momentum_list[j1]\n",
    "    lr = lr_list[j2]\n",
    "    M = M_list[j3]\n",
    "    p = p_list[j4]\n",
    "    N = N_list[j5]\n",
    "    \n",
    "    momentums.append(momentum)\n",
    "    lrs.append(lr)\n",
    "    Ms.append(M)\n",
    "    ps.append(p)\n",
    "    Ns.append(N)\n",
    "    \n",
    "    net3 = Net3(M, p, N)\n",
    "    accu_trs, accu_tes = train_and_test(net3, lr, momentum)\n",
    "    \n",
    "    all_tr.append(accu_trs)\n",
    "    all_te.append(accu_tes)\n",
    "    \n",
    "    accu_te = accu_tes[-1]\n",
    "    last_accu.append(accu_te)\n",
    "    print('momentum: %f; lr: %f; M: %d; p: %d; N: %d; accuracy: %.3f' % (momentum, lr, M, p, N, accu_te))\n",
    "\n",
    "best_index = last_accu.index(np.max(last_accu))\n",
    "\n",
    "momentum_best = momentums[best_index]\n",
    "lr_best = lrs[best_index]\n",
    "M_best = Ms[best_index]\n",
    "p_best = ps[best_index]\n",
    "N_best = Ns[best_index]\n",
    "\n",
    "accu_trs = all_tr[best_index]\n",
    "accu_tes = all_te[best_index]"
   ]
  },
  {
   "cell_type": "code",
   "execution_count": 89,
   "metadata": {
    "ExecuteTime": {
     "end_time": "2018-12-01T09:21:44.265889Z",
     "start_time": "2018-12-01T09:21:44.260039Z"
    }
   },
   "outputs": [
    {
     "name": "stdout",
     "output_type": "stream",
     "text": [
      "Hyper-parameters -- M: 500; momentum: 0.900000; lr: 0.001000; p: 10; N: 4\n"
     ]
    }
   ],
   "source": [
    "print('Hyper-parameters -- M: %d; momentum: %f; lr: %f; p: %d; N: %d' % \\\n",
    "      (M_best, momentum_best, lr_best, p_best, N_best))"
   ]
  },
  {
   "cell_type": "code",
   "execution_count": 87,
   "metadata": {
    "ExecuteTime": {
     "end_time": "2018-12-01T09:20:12.080149Z",
     "start_time": "2018-12-01T09:20:11.911838Z"
    }
   },
   "outputs": [
    {
     "data": {
      "image/png": "[encoded data removed]",
      "text/plain": [
       "<Figure size 432x288 with 1 Axes>"
      ]
     },
     "metadata": {
      "needs_background": "light"
     },
     "output_type": "display_data"
    }
   ],
   "source": [
    "plot_3(accu_trs, accu_tes)"
   ]
  },
  {
   "cell_type": "markdown",
   "metadata": {},
   "source": [
    "## 3.d"
   ]
  },
  {
   "cell_type": "code",
   "execution_count": null,
   "metadata": {
    "ExecuteTime": {
     "end_time": "2018-11-30T07:38:10.694275Z",
     "start_time": "2018-11-30T07:37:00.361621Z"
    }
   },
   "outputs": [],
   "source": [
    "net4 = Net4(6,16,84,5)\n",
    "train_and_test(net2, 0.001, 0.9)"
   ]
  },
  {
   "cell_type": "code",
   "execution_count": null,
   "metadata": {},
   "outputs": [],
   "source": []
  }
 ],
 "metadata": {
  "kernelspec": {
   "display_name": "Python 3",
   "language": "python",
   "name": "python3"
  },
  "language_info": {
   "codemirror_mode": {
    "name": "ipython",
    "version": 3
   },
   "file_extension": ".py",
   "mimetype": "text/x-python",
   "name": "python",
   "nbconvert_exporter": "python",
   "pygments_lexer": "ipython3",
   "version": "3.7.0"
  },
  "latex_envs": {
   "LaTeX_envs_menu_present": true,
   "autoclose": false,
   "autocomplete": true,
   "bibliofile": "biblio.bib",
   "cite_by": "apalike",
   "current_citInitial": 1,
   "eqLabelWithNumbers": true,
   "eqNumInitial": 1,
   "hotkeys": {
    "equation": "Ctrl-E",
    "itemize": "Ctrl-I"
   },
   "labels_anchors": false,
   "latex_user_defs": false,
   "report_style_numbering": false,
   "user_envs_cfg": false
  },
  "varInspector": {
   "cols": {
    "lenName": 16,
    "lenType": 16,
    "lenVar": 40
   },
   "kernels_config": {
    "python": {
     "delete_cmd_postfix": "",
     "delete_cmd_prefix": "del ",
     "library": "var_list.py",
     "varRefreshCmd": "print(var_dic_list())"
    },
    "r": {
     "delete_cmd_postfix": ") ",
     "delete_cmd_prefix": "rm(",
     "library": "var_list.r",
     "varRefreshCmd": "cat(var_dic_list()) "
    }
   },
   "types_to_exclude": [
    "module",
    "function",
    "builtin_function_or_method",
    "instance",
    "_Feature"
   ],
   "window_display": false
  }
 },
 "nbformat": 4,
 "nbformat_minor": 2
}
