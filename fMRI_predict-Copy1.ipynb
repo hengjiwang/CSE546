{
 "cells": [
  {
   "cell_type": "code",
   "execution_count": 5,
   "metadata": {
    "ExecuteTime": {
     "end_time": "2018-11-14T00:27:17.364888Z",
     "start_time": "2018-11-14T00:27:17.362053Z"
    }
   },
   "outputs": [],
   "source": [
    "import scipy.io as sio\n",
    "import numpy as np\n",
    "from sklearn.metrics.pairwise import cosine_similarity\n",
    "import pandas as pd\n",
    "from scipy.stats.stats import pearsonr as ps\n",
    "import math\n",
    "import scipy.sparse.linalg as SLA"
   ]
  },
  {
   "cell_type": "code",
   "execution_count": 6,
   "metadata": {
    "ExecuteTime": {
     "end_time": "2018-11-14T00:27:21.225487Z",
     "start_time": "2018-11-14T00:27:20.535137Z"
    }
   },
   "outputs": [],
   "source": [
    "# load data\n",
    "nP = 9 \n",
    "nTrial = 360\n",
    "nWord = 60\n",
    "nRep = 6\n",
    "nFeature = 25\n",
    "\n",
    "contents = []\n",
    "data = []\n",
    "info = []\n",
    "meta = []\n",
    "for i in range(nP):\n",
    "    contents.append(sio.loadmat('./fMRI_data/data-science-P'+str(i+1)+'.mat'))\n",
    "    data.append(contents[i]['data'])\n",
    "    info.append(contents[i]['info'])\n",
    "    meta.append(contents[i]['meta'])"
   ]
  },
  {
   "cell_type": "code",
   "execution_count": 7,
   "metadata": {
    "ExecuteTime": {
     "end_time": "2018-11-14T00:27:24.433968Z",
     "start_time": "2018-11-14T00:27:24.405363Z"
    }
   },
   "outputs": [],
   "source": [
    "X = np.array(pd.read_excel('./fMRI_data/features4.xls'))\n",
    "X = X.T\n",
    "X = X * np.divide(1, np.linalg.norm(X, axis = 1))[:, np.newaxis]"
   ]
  },
  {
   "cell_type": "code",
   "execution_count": 8,
   "metadata": {
    "ExecuteTime": {
     "end_time": "2018-11-14T10:37:10.122105Z",
     "start_time": "2018-11-14T00:27:27.570389Z"
    },
    "scrolled": true
   },
   "outputs": [
    {
     "name": "stdout",
     "output_type": "stream",
     "text": [
      "0.8152542372881356\n",
      "0.8152542372881356\n",
      "0.7531073446327684\n",
      "0.7361581920903955\n",
      "0.7180790960451977\n",
      "0.619774011299435\n",
      "0.7141242937853107\n",
      "0.6146892655367232\n",
      "0.5689265536723164\n"
     ]
    }
   ],
   "source": [
    "words = ['airplane', 'ant', 'apartment', 'arch', 'arm', 'barn', 'bear', 'bed', 'bee', 'beetle', \\\n",
    "         'bell', 'bicycle', 'bottle', 'butterfly', 'car', 'carrot', 'cat', 'celery', 'chair', \\\n",
    "         'chimney', 'chisel', 'church', 'closet', 'coat', 'corn', 'cow', 'cup', 'desk', 'dog', \\\n",
    "         'door', 'dress', 'dresser', 'eye', 'fly', 'foot', 'glass', 'hammer', 'hand', 'horse', \\\n",
    "         'house', 'igloo', 'key', 'knife', 'leg', 'lettuce', 'pants', 'pliers', 'refrigerator', \\\n",
    "         'saw', 'screwdriver', 'shirt', 'skirt', 'spoon', 'table', 'telephone', 'tomato', \\\n",
    "         'train', 'truck', 'watch', 'window']\n",
    "\n",
    "# Classify same words\n",
    "word_index = [[] for k in range(nWord)]\n",
    "for word in words:\n",
    "    for j in range(nTrial):\n",
    "        if info[0][0][j][2][0] == word:\n",
    "            word_index[words.index(word)].append(j)\n",
    "\n",
    "counts = []\n",
    "for i in range(nP):\n",
    "# for i in [7]:\n",
    "    \n",
    "    nVoxel = len(data[i][0][0][0])\n",
    "    \n",
    "    Y_cub=np.zeros((nWord, nRep, nVoxel))\n",
    "    Y = np.zeros((nWord, nVoxel))\n",
    "    \n",
    "    # Classify same words\n",
    "    count = 0\n",
    "    count2 = 0\n",
    "    # Average same words\n",
    "    for k in range(nWord):\n",
    "        for m in range(nRep):\n",
    "            Y[k] = Y[k]+data[i][word_index[k][m]][0][0]\n",
    "            Y_cub[k][m]=data[i][word_index[k][m]][0][0]\n",
    "        Y[k] = Y[k]/nRep\n",
    "        \n",
    "    # Begin bootstrap\n",
    "    for k in range(0,nWord-1):\n",
    "        for kk in range(k+1, nWord):\n",
    "            count2 += 1\n",
    "        # for kk in range(k+1, k+2):\n",
    "            X_tr = np.concatenate((X[0:k],X[k+1:kk],X[kk+1:]), axis = 0)\n",
    "            Y_tr = np.concatenate((Y[0:k],Y[k+1:kk],Y[kk+1:]), axis = 0)\n",
    "            \n",
    "            Xmean_tr = np.mean(X_tr,axis=0)\n",
    "            Ymean_tr = np.mean(Y_tr,axis=0)\n",
    "            \n",
    "            X_tr -= Xmean_tr\n",
    "            Y_tr -= Ymean_tr\n",
    "            \n",
    "            # X_va = np.concatenate((X[k].reshape(1,nFeature),X[kk].reshape(1,nFeature)), axis = 0)\n",
    "            X_va = np.concatenate((X[k].reshape(1,nFeature),X[kk].reshape(1,nFeature)), axis = 0) - Xmean_tr\n",
    "            \n",
    "            # Y_va = np.concatenate((Y[k].reshape(1,nVoxel),Y[kk].reshape(1,nVoxel)), axis = 0)\n",
    "            Y_va = np.concatenate((Y[k].reshape(1,nVoxel),Y[kk].reshape(1,nVoxel)), axis = 0) - Ymean_tr\n",
    "            \n",
    "            W = np.linalg.solve(np.dot(X_tr.T,X_tr), np.dot(X_tr.T,Y_tr))\n",
    "            Y_pred = np.dot(X_va,W)\n",
    "            \n",
    "            # cosine similarity voxel selection\n",
    "            corre=[]\n",
    "            Y_cos = np.concatenate((Y_cub[0:k],Y_cub[k+1:kk],Y_cub[kk+1:]),axis=0)\n",
    "            for ivox in range(nVoxel):\n",
    "                corr_ivox=np.corrcoef(Y_cos[:,:,ivox].T)\n",
    "                corr_aver=(np.sum(corr_ivox)-6)/30        \n",
    "                corre.append(corr_aver)\n",
    "            ind=np.argsort(np.array(corre))[-500:]\n",
    "\n",
    "                        \n",
    "            # cosine similarity\n",
    "            match1122 = cosine_similarity(Y_pred[0][ind].reshape(1,-1), Y_va[0][ind].reshape(1,-1)) + \\\n",
    "                        cosine_similarity(Y_pred[1][ind].reshape(1,-1), Y_va[1][ind].reshape(1,-1))\n",
    "            match1221 = cosine_similarity(Y_pred[0][ind].reshape(1,-1), Y_va[1][ind].reshape(1,-1)) + \\\n",
    "                        cosine_similarity(Y_pred[1][ind].reshape(1,-1), Y_va[0][ind].reshape(1,-1))\n",
    "            if match1122 >= match1221: count += 1\n",
    "    # counts.append(2*count/((nWord-1)*nWord))\n",
    "    print(count/count2)\n",
    "    counts.append(count/count2)"
   ]
  },
  {
   "cell_type": "code",
   "execution_count": 9,
   "metadata": {
    "ExecuteTime": {
     "end_time": "2018-11-14T18:32:50.335354Z",
     "start_time": "2018-11-14T18:32:50.325783Z"
    }
   },
   "outputs": [
    {
     "data": {
      "text/plain": [
       "0.7061519146264909"
      ]
     },
     "execution_count": 9,
     "metadata": {},
     "output_type": "execute_result"
    }
   ],
   "source": [
    "np.mean(counts)"
   ]
  },
  {
   "cell_type": "code",
   "execution_count": 10,
   "metadata": {
    "ExecuteTime": {
     "end_time": "2018-11-15T00:05:35.876161Z",
     "start_time": "2018-11-15T00:05:35.846419Z"
    }
   },
   "outputs": [
    {
     "data": {
      "text/plain": [
       "1770"
      ]
     },
     "execution_count": 10,
     "metadata": {},
     "output_type": "execute_result"
    }
   ],
   "source": [
    "count2"
   ]
  },
  {
   "cell_type": "code",
   "execution_count": null,
   "metadata": {},
   "outputs": [],
   "source": []
  }
 ],
 "metadata": {
  "kernelspec": {
   "display_name": "Python 3",
   "language": "python",
   "name": "python3"
  },
  "language_info": {
   "codemirror_mode": {
    "name": "ipython",
    "version": 3
   },
   "file_extension": ".py",
   "mimetype": "text/x-python",
   "name": "python",
   "nbconvert_exporter": "python",
   "pygments_lexer": "ipython3",
   "version": "3.6.5"
  },
  "latex_envs": {
   "LaTeX_envs_menu_present": true,
   "autoclose": false,
   "autocomplete": true,
   "bibliofile": "biblio.bib",
   "cite_by": "apalike",
   "current_citInitial": 1,
   "eqLabelWithNumbers": true,
   "eqNumInitial": 1,
   "hotkeys": {
    "equation": "Ctrl-E",
    "itemize": "Ctrl-I"
   },
   "labels_anchors": false,
   "latex_user_defs": false,
   "report_style_numbering": false,
   "user_envs_cfg": false
  },
  "varInspector": {
   "cols": {
    "lenName": 16,
    "lenType": 16,
    "lenVar": 40
   },
   "kernels_config": {
    "python": {
     "delete_cmd_postfix": "",
     "delete_cmd_prefix": "del ",
     "library": "var_list.py",
     "varRefreshCmd": "print(var_dic_list())"
    },
    "r": {
     "delete_cmd_postfix": ") ",
     "delete_cmd_prefix": "rm(",
     "library": "var_list.r",
     "varRefreshCmd": "cat(var_dic_list()) "
    }
   },
   "position": {
    "height": "578px",
    "left": "701px",
    "right": "-3px",
    "top": "113px",
    "width": "568px"
   },
   "types_to_exclude": [
    "module",
    "function",
    "builtin_function_or_method",
    "instance",
    "_Feature"
   ],
   "window_display": false
  }
 },
 "nbformat": 4,
 "nbformat_minor": 2
}
