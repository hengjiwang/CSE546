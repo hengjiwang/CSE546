{
 "cells": [
  {
   "cell_type": "code",
   "execution_count": 20,
   "metadata": {
    "ExecuteTime": {
     "end_time": "2018-11-15T04:35:23.760240Z",
     "start_time": "2018-11-15T04:35:23.552440Z"
    }
   },
   "outputs": [],
   "source": [
    "import scipy.io as sio\n",
    "import numpy as np\n",
    "from sklearn.metrics.pairwise import cosine_similarity\n",
    "import pandas as pd\n",
    "from scipy.stats.stats import pearsonr as ps\n",
    "import math\n",
    "import matplotlib.pyplot as plt"
   ]
  },
  {
   "cell_type": "code",
   "execution_count": 2,
   "metadata": {
    "ExecuteTime": {
     "end_time": "2018-11-15T03:32:50.695624Z",
     "start_time": "2018-11-15T03:32:49.946386Z"
    }
   },
   "outputs": [],
   "source": [
    "# load data\n",
    "nP = 9 \n",
    "nTrial = 360\n",
    "nWord = 60\n",
    "nRep = 6\n",
    "nFeature = 25\n",
    "\n",
    "contents = []\n",
    "data = []\n",
    "info = []\n",
    "meta = []\n",
    "for i in range(nP):\n",
    "    contents.append(sio.loadmat('./fMRI_data/data-science-P'+str(i+1)+'.mat'))\n",
    "    data.append(contents[i]['data'])\n",
    "    info.append(contents[i]['info'])\n",
    "    meta.append(contents[i]['meta'])"
   ]
  },
  {
   "cell_type": "code",
   "execution_count": 3,
   "metadata": {
    "ExecuteTime": {
     "end_time": "2018-11-15T03:32:54.122298Z",
     "start_time": "2018-11-15T03:32:54.070304Z"
    }
   },
   "outputs": [],
   "source": [
    "X = np.array(pd.read_excel('./fMRI_data/features4.xls'))\n",
    "X = X.T\n",
    "X = X * np.divide(1, np.linalg.norm(X, axis = 1))[:, np.newaxis]"
   ]
  },
  {
   "cell_type": "code",
   "execution_count": 5,
   "metadata": {
    "ExecuteTime": {
     "end_time": "2018-11-15T04:02:18.202488Z",
     "start_time": "2018-11-15T03:34:19.528880Z"
    },
    "scrolled": false
   },
   "outputs": [
    {
     "name": "stdout",
     "output_type": "stream",
     "text": [
      "2e-05 0.8158192090395481\n",
      "2e-05 0.8141242937853107\n",
      "2e-05 0.7536723163841808\n",
      "0.0001 0.8169491525423729\n",
      "0.0001 0.8124293785310734\n",
      "0.0001 0.7559322033898305\n",
      "0.0002 0.8163841807909604\n",
      "0.0002 0.8096045197740113\n",
      "0.0002 0.7587570621468926\n",
      "0.0004 0.8152542372881356\n",
      "0.0004 0.8022598870056498\n",
      "0.0004 0.7598870056497176\n",
      "0.0008 0.8158192090395481\n",
      "0.0008 0.792090395480226\n",
      "0.0008 0.7627118644067796\n",
      "0.001 0.8135593220338984\n",
      "0.001 0.7909604519774012\n",
      "0.001 0.764406779661017\n",
      "0.002 0.8129943502824859\n",
      "0.002 0.7853107344632768\n",
      "0.002 0.7621468926553673\n",
      "0.01 0.8197740112994351\n",
      "0.01 0.784180790960452\n",
      "0.01 0.7559322033898305\n",
      "0.1 0.8350282485875706\n",
      "0.1 0.7711864406779662\n",
      "0.1 0.7587570621468926\n",
      "1 0.8288135593220339\n",
      "1 0.7649717514124293\n",
      "1 0.7593220338983051\n",
      "1.5 0.8259887005649718\n",
      "1.5 0.7638418079096045\n",
      "1.5 0.7559322033898305\n",
      "2 0.823728813559322\n",
      "2 0.7604519774011299\n",
      "2 0.7559322033898305\n",
      "3 0.8231638418079096\n",
      "3 0.7559322033898305\n",
      "3 0.7497175141242938\n",
      "5 0.8129943502824859\n",
      "5 0.7468926553672316\n",
      "5 0.7451977401129943\n",
      "8 0.8124293785310734\n",
      "8 0.7451977401129943\n",
      "8 0.7406779661016949\n",
      "10 0.811864406779661\n",
      "10 0.7429378531073446\n",
      "10 0.7395480225988701\n",
      "12 0.8101694915254237\n",
      "12 0.7423728813559322\n",
      "12 0.7395480225988701\n",
      "15 0.8107344632768362\n",
      "15 0.7435028248587571\n",
      "15 0.7395480225988701\n",
      "20 0.8101694915254237\n",
      "20 0.7423728813559322\n",
      "20 0.7378531073446327\n",
      "50 0.8062146892655367\n",
      "50 0.7429378531073446\n",
      "50 0.7344632768361582\n",
      "100 0.8056497175141243\n",
      "100 0.7429378531073446\n",
      "100 0.7327683615819209\n"
     ]
    }
   ],
   "source": [
    "words = ['airplane', 'ant', 'apartment', 'arch', 'arm', 'barn', 'bear', 'bed', 'bee', 'beetle', \\\n",
    "         'bell', 'bicycle', 'bottle', 'butterfly', 'car', 'carrot', 'cat', 'celery', 'chair', \\\n",
    "         'chimney', 'chisel', 'church', 'closet', 'coat', 'corn', 'cow', 'cup', 'desk', 'dog', \\\n",
    "         'door', 'dress', 'dresser', 'eye', 'fly', 'foot', 'glass', 'hammer', 'hand', 'horse', \\\n",
    "         'house', 'igloo', 'key', 'knife', 'leg', 'lettuce', 'pants', 'pliers', 'refrigerator', \\\n",
    "         'saw', 'screwdriver', 'shirt', 'skirt', 'spoon', 'table', 'telephone', 'tomato', \\\n",
    "         'train', 'truck', 'watch', 'window']\n",
    "\n",
    "# Classify same words\n",
    "word_index = [[] for k in range(nWord)]\n",
    "for word in words:\n",
    "    for j in range(nTrial):\n",
    "        if info[0][0][j][2][0] == word:\n",
    "            word_index[words.index(word)].append(j)\n",
    "\n",
    "for lamb in [2e-5, 1e-4, 2e-4, 4e-4, 8e-4, 1e-3, 2e-3, 1e-2, 1e-1, 1, 1.5, 2, 3, 5, 8, 10, 12, 15, 20, 50, 100]:\n",
    "#counts = []\n",
    "    for i in range(0, 3):  \n",
    "        nVoxel = len(data[i][0][0][0])\n",
    "        Y = np.zeros((nWord, nVoxel)) # 60 images for training\n",
    "        count = 0\n",
    "        # Average same words\n",
    "        for k in range(nWord):\n",
    "            for m in range(nRep):\n",
    "                Y[k] += data[i][word_index[k][m]][0][0]\n",
    "            Y[k] /= nRep\n",
    "\n",
    "        count2 = 0\n",
    "        inds = np.array(pd.read_csv('./fMRI_data/ind'+str(i+1)+'.txt', header=None))\n",
    "        # Begin bootstrap\n",
    "        for k in range(0,nWord-1):\n",
    "            for kk in range(k+1, nWord):\n",
    "                ind = inds[count2]\n",
    "                ind = np.array([[int(ele) for ele in ind]])\n",
    "                X_tr = np.concatenate((X[0:k],X[k+1:kk],X[kk+1:]), axis = 0)\n",
    "                Y_tr = np.concatenate((Y[0:k],Y[k+1:kk],Y[kk+1:]), axis = 0)\n",
    "\n",
    "                mu_x = np.mean(X_tr, axis = 0)\n",
    "                mu_y = np.mean(Y_tr, axis = 0)\n",
    "\n",
    "                X_tr -= mu_x\n",
    "                Y_tr -= mu_y\n",
    "                X_va = X[[k, kk]] - mu_x\n",
    "                Y_va = Y[[k, kk]] - mu_y\n",
    "                W = np.linalg.solve(X_tr.T@X_tr + lamb*np.eye(nFeature), X_tr.T@Y_tr)\n",
    "                #W = np.linalg.solve(1e5*np.eye(nFeature), np.random.randn(25, nVoxel))\n",
    "                #W = np.random.randn(25, 21344)\n",
    "                Y_pred = X_va@W\n",
    "\n",
    "                match1122 = cosine_similarity(Y_pred[0][ind].reshape(1,-1), Y_va[0][ind].reshape(1,-1)) + \\\n",
    "                            cosine_similarity(Y_pred[1][ind].reshape(1,-1), Y_va[1][ind].reshape(1,-1))\n",
    "                match1221 = cosine_similarity(Y_pred[0][ind].reshape(1,-1), Y_va[1][ind].reshape(1,-1)) + \\\n",
    "                            cosine_similarity(Y_pred[1][ind].reshape(1,-1), Y_va[0][ind].reshape(1,-1))\n",
    "\n",
    "                #print(float(match1122), float(match1221))\n",
    "                if match1122 > match1221: count += 1    \n",
    "                count2 += 1\n",
    "        print(lamb, count/count2)\n",
    "    #counts.append(count/count2)"
   ]
  },
  {
   "cell_type": "code",
   "execution_count": 6,
   "metadata": {
    "ExecuteTime": {
     "end_time": "2018-11-15T04:09:31.925590Z",
     "start_time": "2018-11-15T04:09:31.923279Z"
    }
   },
   "outputs": [],
   "source": [
    "lambs = [2e-5, 1e-4, 2e-4, 4e-4, 8e-4, 1e-3, 2e-3, 1e-2, 1e-1, 1, 1.5, 2, 3, 5, 8, 10, 12, 15, 20, 50, 100]"
   ]
  },
  {
   "cell_type": "code",
   "execution_count": 127,
   "metadata": {
    "ExecuteTime": {
     "end_time": "2018-11-15T06:11:19.074904Z",
     "start_time": "2018-11-15T06:11:19.071124Z"
    }
   },
   "outputs": [
    {
     "data": {
      "text/plain": [
       "0.7337099812222222"
      ]
     },
     "execution_count": 127,
     "metadata": {},
     "output_type": "execute_result"
    }
   ],
   "source": [
    "array_accu = np.array(accuracies)\n",
    "np.mean(array_accu[:,10])"
   ]
  },
  {
   "cell_type": "code",
   "execution_count": 125,
   "metadata": {
    "ExecuteTime": {
     "end_time": "2018-11-15T06:04:51.327983Z",
     "start_time": "2018-11-15T06:04:50.860970Z"
    }
   },
   "outputs": [
    {
     "data": {
      "image/png": "[encoded data removed]",
      "text/plain": [
       "<Figure size 720x432 with 1 Axes>"
      ]
     },
     "metadata": {},
     "output_type": "display_data"
    }
   ],
   "source": [
    "plt.figure(figsize=(10, 6))\n",
    "for i in range(len(accuracies)):\n",
    "    plt.plot(lambs[0:21],accuracies[i][0:21],'o-', label = '%d' % (i+1))\n",
    "plt.plot(lambs[0:21],np.mean(accuracies,axis=0)[0:21],'ko--',linewidth=5, markersize = 10, label = 'mean')\n",
    "plt.xscale('log')\n",
    "plt.legend(loc='upper right', bbox_to_anchor=(0.13, 0.91, 1., .102))\n",
    "plt.show()"
   ]
  },
  {
   "cell_type": "code",
   "execution_count": 85,
   "metadata": {
    "ExecuteTime": {
     "end_time": "2018-11-15T05:11:59.075618Z",
     "start_time": "2018-11-15T05:11:59.072683Z"
    }
   },
   "outputs": [],
   "source": [
    "import pickle\n",
    "pickle.dump(accuracies,open('accuracies.txt', 'wb') ) "
   ]
  },
  {
   "cell_type": "code",
   "execution_count": null,
   "metadata": {},
   "outputs": [],
   "source": [
    "import pickle\n",
    "accuracies1=pickle.load(open('accuracies.txt', 'rb'))"
   ]
  }
 ],
 "metadata": {
  "kernelspec": {
   "display_name": "Python 3",
   "language": "python",
   "name": "python3"
  },
  "language_info": {
   "codemirror_mode": {
    "name": "ipython",
    "version": 3
   },
   "file_extension": ".py",
   "mimetype": "text/x-python",
   "name": "python",
   "nbconvert_exporter": "python",
   "pygments_lexer": "ipython3",
   "version": "3.6.5"
  },
  "latex_envs": {
   "LaTeX_envs_menu_present": true,
   "autoclose": false,
   "autocomplete": true,
   "bibliofile": "biblio.bib",
   "cite_by": "apalike",
   "current_citInitial": 1,
   "eqLabelWithNumbers": true,
   "eqNumInitial": 1,
   "hotkeys": {
    "equation": "Ctrl-E",
    "itemize": "Ctrl-I"
   },
   "labels_anchors": false,
   "latex_user_defs": false,
   "report_style_numbering": false,
   "user_envs_cfg": false
  },
  "varInspector": {
   "cols": {
    "lenName": 16,
    "lenType": 16,
    "lenVar": 40
   },
   "kernels_config": {
    "python": {
     "delete_cmd_postfix": "",
     "delete_cmd_prefix": "del ",
     "library": "var_list.py",
     "varRefreshCmd": "print(var_dic_list())"
    },
    "r": {
     "delete_cmd_postfix": ") ",
     "delete_cmd_prefix": "rm(",
     "library": "var_list.r",
     "varRefreshCmd": "cat(var_dic_list()) "
    }
   },
   "position": {
    "height": "578px",
    "left": "701px",
    "right": "-3px",
    "top": "113px",
    "width": "568px"
   },
   "types_to_exclude": [
    "module",
    "function",
    "builtin_function_or_method",
    "instance",
    "_Feature"
   ],
   "window_display": false
  }
 },
 "nbformat": 4,
 "nbformat_minor": 2
}
