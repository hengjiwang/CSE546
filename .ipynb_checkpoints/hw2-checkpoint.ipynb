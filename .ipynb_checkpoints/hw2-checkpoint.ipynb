{
 "cells": [
  {
   "cell_type": "markdown",
   "metadata": {},
   "source": [
    "# Programming: Lasso"
   ]
  },
  {
   "cell_type": "markdown",
   "metadata": {},
   "source": [
    "## 3"
   ]
  },
  {
   "cell_type": "code",
   "execution_count": 39,
   "metadata": {
    "ExecuteTime": {
     "end_time": "2018-11-01T06:10:54.950539Z",
     "start_time": "2018-11-01T06:10:54.825389Z"
    },
    "collapsed": true
   },
   "outputs": [],
   "source": [
    "# --------------------- problem 3 -------------------------\n",
    "import numpy as np\n",
    "import matplotlib.pyplot as plt\n",
    "from math import *\n",
    "\n",
    "# constants n, d, k and sigma\n",
    "N = 500\n",
    "D = 1000\n",
    "K = 100\n",
    "SIGMA = 1\n",
    "\n",
    "# generate data (x, y)\n",
    "x = np.random.randn(N, D)\n",
    "w = np.zeros(D)\n",
    "for j in range(K): w[j] = (j+1)/K\n",
    "epsl = SIGMA**2 * np.random.randn(N)\n",
    "y = np.dot(x, w) + epsl\n",
    "\n",
    "# compute a outside the loop (since it's unrelated to lambda, w and b)\n",
    "a = np.zeros(D)\n",
    "for k in range(D): a[k] = 2 * np.dot(x[:,k].T, x[:,k])\n",
    "\n",
    "def calculate_lamb_max(X, Y):\n",
    "    '''returns lambda_max'''\n",
    "    lamb_list = 2 * np.mat([np.abs(np.dot(X.T, (Y-np.mean(Y))))])\n",
    "    return np.max(lamb_list)\n",
    "\n",
    "def lasso_loss(X, Y, W, B, Lamb):\n",
    "    '''returns the regularization loss for Lasso'''\n",
    "    L = np.dot((np.dot(X, W) + B - Y).T, (np.dot(X, W) + B - Y))\\\n",
    "        + Lamb * np.dot(W.T, W) \n",
    "    return L\n",
    "\n",
    "def lasso_coordinate_descent(X, Y, W, Lamb, thres):\n",
    "    '''coordinate descent for Lasso'''\n",
    "    change = 10000\n",
    "    a = np.zeros(D)\n",
    "    c = np.zeros(D)\n",
    "    \n",
    "    while change > thres:\n",
    "        \n",
    "        W_temp = list(W)\n",
    "        b = np.mean(Y - np.dot(X, W))\n",
    "        for k in range(D):\n",
    "            a[k] = 2 * np.dot(X[:,k].T, X[:,k])\n",
    "            c[k] = 2 * np.dot(X[:,k].T, Y - (b + np.dot(X, W) \\\n",
    "                            - W[k] * X[:,k]))\n",
    "            W[k] = (c[k] + Lamb) / a[k] if c[k] < -Lamb \\\n",
    "                   else (c[k] - Lamb) / a[k] if c[k] > Lamb \\\n",
    "                   else 0\n",
    "        change = np.max(np.abs(W-W_temp))\n",
    "        #print(Lamb, lasso_loss(X, Y, W, b, Lamb))\n",
    "        #print(max(a))\n",
    "    return W, b"
   ]
  },
  {
   "cell_type": "code",
   "execution_count": 40,
   "metadata": {
    "ExecuteTime": {
     "end_time": "2018-11-01T06:11:15.676765Z",
     "start_time": "2018-11-01T06:10:55.148057Z"
    },
    "collapsed": true
   },
   "outputs": [],
   "source": [
    "lamb = calculate_lamb_max(x, y) # calculate lamb_max\n",
    "w = np.zeros(D)\n",
    "\n",
    "axes_x = []\n",
    "axes_y = []\n",
    "FDR = []\n",
    "TPR =[]\n",
    "\n",
    "#while np.count_nonzero(w) < len(w): # coordinate descent with decreasing lambda\n",
    "while np.count_nonzero(w) < 0.99*D:\n",
    "    w, b = lasso_coordinate_descent(x, y, w, lamb, 1e-3) \n",
    "    axes_x.append(lamb)\n",
    "    axes_y.append(np.count_nonzero(w))\n",
    "    if np.count_nonzero(w) > 0:\n",
    "        FDR.append(np.count_nonzero(w[100:])/np.count_nonzero(w))\n",
    "    else:\n",
    "        FDR.append(0)        \n",
    "    TPR.append(np.count_nonzero(w[0:100])/K)\n",
    "    lamb /= 1.5\n",
    "   "
   ]
  },
  {
   "cell_type": "code",
   "execution_count": 41,
   "metadata": {
    "ExecuteTime": {
     "end_time": "2018-11-01T06:11:16.293141Z",
     "start_time": "2018-11-01T06:11:15.747709Z"
    }
   },
   "outputs": [
    {
     "data": {
      "image/png": "[encoded data removed]",
      "text/plain": [
       "<matplotlib.figure.Figure at 0x128e7a390>"
      ]
     },
     "metadata": {},
     "output_type": "display_data"
    }
   ],
   "source": [
    "# plot 1\n",
    "plt.figure()\n",
    "plt.plot(axes_x, axes_y, 'o-')\n",
    "plt.xscale('log')\n",
    "plt.xlabel('lambda')\n",
    "plt.ylabel('number of non-zeros')\n",
    "plt.title('Plot 1')\n",
    "plt.show()"
   ]
  },
  {
   "cell_type": "code",
   "execution_count": 42,
   "metadata": {
    "ExecuteTime": {
     "end_time": "2018-11-01T06:11:16.480700Z",
     "start_time": "2018-11-01T06:11:16.368778Z"
    }
   },
   "outputs": [
    {
     "data": {
      "image/png": "[encoded data removed]",
      "text/plain": [
       "<matplotlib.figure.Figure at 0x128d40dd8>"
      ]
     },
     "metadata": {},
     "output_type": "display_data"
    }
   ],
   "source": [
    "# plot 2\n",
    "plt.figure()\n",
    "plt.plot(FDR, TPR, 'bo-')\n",
    "plt.xlabel('FDR')\n",
    "plt.ylabel('TPR')\n",
    "plt.title('Plot 2')\n",
    "plt.show()"
   ]
  },
  {
   "cell_type": "markdown",
   "metadata": {},
   "source": [
    "## 4 "
   ]
  },
  {
   "cell_type": "code",
   "execution_count": 97,
   "metadata": {
    "ExecuteTime": {
     "end_time": "2018-11-01T06:37:00.275187Z",
     "start_time": "2018-11-01T06:36:54.807390Z"
    },
    "collapsed": true
   },
   "outputs": [],
   "source": [
    "# -------------------- problem 4 ----------------------------\n",
    "import numpy as np\n",
    "import matplotlib.pyplot as plt\n",
    "from math import *\n",
    "# Load a csv of floats:\n",
    "X = np.genfromtxt(\"upvote_data.csv\", delimiter=\",\")\n",
    "# Load a text file of integers:\n",
    "y = np.loadtxt(\"upvote_labels.txt\", dtype=np.int)\n",
    "# Load a text file of strings:\n",
    "featureNames = open(\"upvote_features.txt\").read().splitlines()"
   ]
  },
  {
   "cell_type": "markdown",
   "metadata": {},
   "source": [
    "## 4.a"
   ]
  },
  {
   "cell_type": "code",
   "execution_count": 98,
   "metadata": {
    "ExecuteTime": {
     "end_time": "2018-11-01T06:37:00.375775Z",
     "start_time": "2018-11-01T06:37:00.362505Z"
    },
    "collapsed": true
   },
   "outputs": [],
   "source": [
    "y = np.sqrt(y)\n",
    "\n",
    "X_tr, y_tr = X[0:4000], y[0:4000]\n",
    "X_va, y_va = X[4000:5000], y[4000:5000]\n",
    "X_te, y_te = X[5000:], y[5000:]"
   ]
  },
  {
   "cell_type": "code",
   "execution_count": 99,
   "metadata": {
    "ExecuteTime": {
     "end_time": "2018-11-01T06:40:35.446894Z",
     "start_time": "2018-11-01T06:37:00.456236Z"
    },
    "collapsed": true
   },
   "outputs": [],
   "source": [
    "D = len(X_tr[0])\n",
    "\n",
    "def squared_error(X, Y, W, B):\n",
    "    '''returns the regularization loss for Lasso'''\n",
    "    L = 1/len(X) * np.dot((np.dot(X, W) + B - Y).T, (np.dot(X, W) + B - Y))\n",
    "    return L\n",
    "\n",
    "lamb = calculate_lamb_max(X_tr, y_tr) # calculate lamb_max\n",
    "w = np.zeros(D)\n",
    "lamb_list = []\n",
    "train_error = []\n",
    "valid_error = []\n",
    "non_zero = []\n",
    "\n",
    "count = 0\n",
    "while count<30: # coordinate descent with decreasing lambda\n",
    "    w, b = lasso_coordinate_descent(X_tr, y_tr, w, lamb, 0.2) \n",
    "    lamb_list.append(lamb)\n",
    "    train_error.append(squared_error(X_tr, y_tr, w, b))\n",
    "    valid_error.append(squared_error(X_va, y_va, w, b))\n",
    "    non_zero.append(np.count_nonzero(w))\n",
    "    lamb /= 1.5\n",
    "    count+=1"
   ]
  },
  {
   "cell_type": "code",
   "execution_count": 100,
   "metadata": {
    "ExecuteTime": {
     "end_time": "2018-11-01T06:40:35.958269Z",
     "start_time": "2018-11-01T06:40:35.545949Z"
    }
   },
   "outputs": [
    {
     "data": {
      "image/png": "[encoded data removed]",
      "text/plain": [
       "<matplotlib.figure.Figure at 0x111dd32b0>"
      ]
     },
     "metadata": {},
     "output_type": "display_data"
    }
   ],
   "source": [
    "# plot 3\n",
    "plt.figure()\n",
    "plt.plot(lamb_list, train_error, 'o-', label = 'training')\n",
    "plt.plot(lamb_list, valid_error, 'o-', label = 'validation')\n",
    "plt.xscale('log')\n",
    "plt.gca().invert_xaxis()\n",
    "plt.xlabel('lambda')\n",
    "plt.ylabel('squared error')\n",
    "plt.title('Plot 3')\n",
    "plt.legend(loc='upper right')\n",
    "plt.show()"
   ]
  },
  {
   "cell_type": "code",
   "execution_count": 102,
   "metadata": {
    "ExecuteTime": {
     "end_time": "2018-11-01T06:53:37.031401Z",
     "start_time": "2018-11-01T06:53:36.389846Z"
    }
   },
   "outputs": [
    {
     "data": {
      "image/png": "[encoded data removed]",
      "text/plain": [
       "<matplotlib.figure.Figure at 0x111d9b518>"
      ]
     },
     "metadata": {},
     "output_type": "display_data"
    }
   ],
   "source": [
    "# plot 4\n",
    "plt.figure()\n",
    "plt.plot(lamb_list, non_zero, 'o-')\n",
    "plt.xscale('log')\n",
    "plt.gca().invert_xaxis()\n",
    "plt.xlabel('lambda')\n",
    "plt.ylabel('number of non-zeros')\n",
    "plt.title('Plot 4')\n",
    "plt.gca().invert_xaxis()\n",
    "plt.legend(loc='upper right')\n",
    "plt.show()"
   ]
  },
  {
   "cell_type": "code",
   "execution_count": 103,
   "metadata": {
    "ExecuteTime": {
     "end_time": "2018-11-01T06:53:41.733643Z",
     "start_time": "2018-11-01T06:53:41.640051Z"
    }
   },
   "outputs": [
    {
     "data": {
      "text/plain": [
       "46.778422725018636"
      ]
     },
     "execution_count": 103,
     "metadata": {},
     "output_type": "execute_result"
    }
   ],
   "source": [
    "calculate_lamb_max(X_tr, y_tr)"
   ]
  },
  {
   "cell_type": "markdown",
   "metadata": {},
   "source": [
    "## 4.b"
   ]
  },
  {
   "cell_type": "code",
   "execution_count": 105,
   "metadata": {
    "ExecuteTime": {
     "end_time": "2018-11-01T06:53:50.943603Z",
     "start_time": "2018-11-01T06:53:50.936569Z"
    }
   },
   "outputs": [
    {
     "name": "stdout",
     "output_type": "stream",
     "text": [
      "The best lambda is 1.217\n"
     ]
    }
   ],
   "source": [
    "print('The best lambda is %.3f' % lamb_list[valid_error.index(np.min(valid_error))])"
   ]
  },
  {
   "cell_type": "code",
   "execution_count": 109,
   "metadata": {
    "ExecuteTime": {
     "end_time": "2018-11-01T07:06:28.473106Z",
     "start_time": "2018-11-01T07:05:07.114095Z"
    }
   },
   "outputs": [
    {
     "name": "stdout",
     "output_type": "stream",
     "text": [
      "The training error is 0.44\n",
      "The validation error is 0.40\n",
      "The test error is 0.48\n"
     ]
    }
   ],
   "source": [
    "w, b = lasso_coordinate_descent(X_tr, y_tr, np.zeros(D), 1.217, 0.2) \n",
    "print('The training error is %.2f' % train_error[valid_error.index(np.min(valid_error))])\n",
    "print('The validation error is %.2f' % valid_error[valid_error.index(np.min(valid_error))])\n",
    "print('The test error is %.2f' % squared_error(X_te, y_te, w, b))"
   ]
  },
  {
   "cell_type": "code",
   "execution_count": 110,
   "metadata": {
    "ExecuteTime": {
     "end_time": "2018-11-01T07:07:13.902133Z",
     "start_time": "2018-11-01T07:07:13.891985Z"
    }
   },
   "outputs": [
    {
     "data": {
      "text/plain": [
       "0.82670108925296226"
      ]
     },
     "execution_count": 110,
     "metadata": {},
     "output_type": "execute_result"
    }
   ],
   "source": [
    "b"
   ]
  },
  {
   "cell_type": "code",
   "execution_count": 107,
   "metadata": {
    "ExecuteTime": {
     "end_time": "2018-11-01T06:59:38.308395Z",
     "start_time": "2018-11-01T06:59:38.297528Z"
    }
   },
   "outputs": [
    {
     "name": "stdout",
     "output_type": "stream",
     "text": [
      "['sqrt(UserCoolVotes*BusinessNumStars)', 'log(ReviewNumCharacters*UserUsefulVotes)', 'log(ReviewNumLineBreaks*UserCoolVotes)', 'sqrt(ReviewNumCharacters*UserFunnyVotes)', 'log(UserUsefulVotes)', 'sqrt(ReviewNumCharacters*UserCoolVotes)', 'log(UserCoolVotes*BusinessIsOpen)', 'sqrt(ReviewNumWords*UserUsefulVotes)', 'BusinessNumReviews*InGlendale', 'sqrt(UserCoolVotes*IsRestaurant)']\n"
     ]
    }
   ],
   "source": [
    "ww = np.sort(w)[::-1]\n",
    "fts_max = []\n",
    "for j in range(10):\n",
    "    index = list(w).index(ww[j])\n",
    "    fts_max.append(featureNames[index])\n",
    "print(fts_max)"
   ]
  },
  {
   "cell_type": "markdown",
   "metadata": {},
   "source": [
    "# Binary Logistic Regression"
   ]
  },
  {
   "cell_type": "markdown",
   "metadata": {},
   "source": [
    "## 5"
   ]
  },
  {
   "cell_type": "code",
   "execution_count": 1,
   "metadata": {
    "ExecuteTime": {
     "end_time": "2018-11-02T05:15:17.794254Z",
     "start_time": "2018-11-02T05:15:10.093435Z"
    },
    "collapsed": true
   },
   "outputs": [],
   "source": [
    "# -------------------- problem 5 ------------------------------\n",
    "import numpy as np\n",
    "from mnist import MNIST\n",
    "import math\n",
    "import matplotlib.pyplot as plt\n",
    "\n",
    "mndata = MNIST('./data/')\n",
    "X_train, labels_train = map(np.array, mndata.load_training())\n",
    "X_test, labels_test = map(np.array, mndata.load_testing())\n",
    "X_train = X_train/255.0\n",
    "X_test = X_test/255.0"
   ]
  },
  {
   "cell_type": "code",
   "execution_count": 2,
   "metadata": {
    "ExecuteTime": {
     "end_time": "2018-11-02T05:15:17.852808Z",
     "start_time": "2018-11-02T05:15:17.843336Z"
    },
    "collapsed": true
   },
   "outputs": [],
   "source": [
    "seven_index_train = np.argwhere(labels_train == 7)\n",
    "two_index_train = np.argwhere(labels_train == 2)\n",
    "\n",
    "seven_index_test = np.argwhere(labels_test == 7)\n",
    "two_index_test = np.argwhere(labels_test == 2)"
   ]
  },
  {
   "cell_type": "code",
   "execution_count": 3,
   "metadata": {
    "ExecuteTime": {
     "end_time": "2018-11-02T05:15:17.893071Z",
     "start_time": "2018-11-02T05:15:17.880712Z"
    },
    "collapsed": true
   },
   "outputs": [],
   "source": [
    "X_tr = np.zeros(shape = [len(seven_index_train) + len(two_index_train), len(X_train[0])])\n",
    "y_tr = np.zeros(shape = [len(seven_index_train) + len(two_index_train), 1])\n",
    "\n",
    "X_te = np.zeros(shape = [len(seven_index_test) + len(two_index_test), len(X_test[0])])\n",
    "y_te = np.zeros(shape = [len(seven_index_test) + len(two_index_test), 1])"
   ]
  },
  {
   "cell_type": "code",
   "execution_count": 4,
   "metadata": {
    "ExecuteTime": {
     "end_time": "2018-11-02T05:15:18.972678Z",
     "start_time": "2018-11-02T05:15:17.927167Z"
    },
    "collapsed": true
   },
   "outputs": [],
   "source": [
    "k = 0\n",
    "for j in range(len(labels_train)):\n",
    "    if j in seven_index_train:\n",
    "        y_tr[k] = 1\n",
    "        X_tr[k] = X_train[j]\n",
    "        k += 1\n",
    "    if j in two_index_train:\n",
    "        y_tr[k] = -1\n",
    "        X_tr[k] = X_train[j]\n",
    "        k += 1\n",
    "        \n",
    "k = 0\n",
    "for j in range(len(labels_test)):\n",
    "    if j in seven_index_test:\n",
    "        y_te[k] = 1\n",
    "        X_te[k] = X_test[j]\n",
    "        k += 1\n",
    "    if j in two_index_test:\n",
    "        y_te[k] = -1\n",
    "        X_te[k] = X_test[j]\n",
    "        k += 1"
   ]
  },
  {
   "cell_type": "markdown",
   "metadata": {},
   "source": [
    "## 5.b(a)"
   ]
  },
  {
   "cell_type": "code",
   "execution_count": 5,
   "metadata": {
    "ExecuteTime": {
     "end_time": "2018-11-02T05:15:19.069825Z",
     "start_time": "2018-11-02T05:15:19.001444Z"
    },
    "collapsed": true
   },
   "outputs": [],
   "source": [
    "def mu(X, Y, W, B):\n",
    "    return 1 / (1 + np.exp((B + np.dot(X,W)) * Y))\n",
    "\n",
    "def ridge_loss(X, Y, W, B, Lamb):\n",
    "    J = np.mean(np.log(1+np.exp(-Y *(B + np.dot(X,W))))) + Lamb*np.dot(W.T, W)\n",
    "    return float(J)\n",
    "    \n",
    "def gradient_descent(X, Y, Lamb, Eta):\n",
    "    w = np.zeros(shape=[len(X_tr[0]),1])\n",
    "    b = 0\n",
    "    \n",
    "    w_list = []\n",
    "    b_list = []\n",
    "    Loss=[]\n",
    "    \n",
    "    w_list.append(w)\n",
    "    b_list.append(b)    \n",
    "    Loss.append(ridge_loss(X,Y,w,b,Lamb))\n",
    "    \n",
    "    change = 100\n",
    "    while (change>2e-4):\n",
    "        w_next = w - Eta * (-1/len(X) * (np.dot(X.T, Y*mu(X,Y,w,b)))\\\n",
    "                            + 2*Lamb*w)\n",
    "        b_next = b - Eta * (-1/len(X) * np.dot(Y.T, mu(X,Y,w,b)))  \n",
    "        \n",
    "        change = np.max(np.abs(w_next-w))\n",
    "        w = w_next\n",
    "        b = b_next    \n",
    "        \n",
    "        w_list.append(w)\n",
    "        b_list.append(b) \n",
    "        Loss.append(ridge_loss(X,Y,w,b,Lamb))\n",
    "        \n",
    "    return w_list,b_list,Loss"
   ]
  },
  {
   "cell_type": "code",
   "execution_count": 6,
   "metadata": {
    "ExecuteTime": {
     "end_time": "2018-11-02T05:15:19.913995Z",
     "start_time": "2018-11-02T05:15:19.103970Z"
    },
    "collapsed": true
   },
   "outputs": [],
   "source": [
    "eta = 0.5\n",
    "lamb = 0.1\n",
    "w,b,loss = gradient_descent(X_tr, y_tr, lamb, eta)"
   ]
  },
  {
   "cell_type": "code",
   "execution_count": 7,
   "metadata": {
    "ExecuteTime": {
     "end_time": "2018-11-02T05:15:20.847609Z",
     "start_time": "2018-11-02T05:15:20.811968Z"
    },
    "collapsed": true
   },
   "outputs": [],
   "source": [
    "train_loss = loss\n",
    "test_loss = []\n",
    "for j in range(len(loss)):\n",
    "    test_loss.append(ridge_loss(X_te, y_te, w[j], b[j], 0.1))"
   ]
  },
  {
   "cell_type": "code",
   "execution_count": 8,
   "metadata": {
    "ExecuteTime": {
     "end_time": "2018-11-02T05:15:21.784220Z",
     "start_time": "2018-11-02T05:15:21.780201Z"
    },
    "collapsed": true
   },
   "outputs": [],
   "source": [
    "steps = list(range(len(loss)))"
   ]
  },
  {
   "cell_type": "code",
   "execution_count": 9,
   "metadata": {
    "ExecuteTime": {
     "end_time": "2018-11-02T05:15:23.107035Z",
     "start_time": "2018-11-02T05:15:22.637073Z"
    }
   },
   "outputs": [
    {
     "data": {
      "image/png": "[encoded data removed]",
      "text/plain": [
       "<matplotlib.figure.Figure at 0x10eb3ecf8>"
      ]
     },
     "metadata": {},
     "output_type": "display_data"
    }
   ],
   "source": [
    "plt.figure()\n",
    "plt.plot(steps[:], train_loss[:], 'ro-', label = 'training')\n",
    "plt.plot(steps[:], test_loss[:], 'bo-', label = 'test')\n",
    "plt.xlabel('interation number')\n",
    "plt.ylabel('objective function')\n",
    "plt.legend(loc='upper right')\n",
    "plt.show()"
   ]
  },
  {
   "cell_type": "markdown",
   "metadata": {
    "ExecuteTime": {
     "end_time": "2018-10-28T22:51:14.642849Z",
     "start_time": "2018-10-28T22:51:14.635906Z"
    }
   },
   "source": [
    "## 5.b(b)"
   ]
  },
  {
   "cell_type": "code",
   "execution_count": 10,
   "metadata": {
    "ExecuteTime": {
     "end_time": "2018-11-02T05:15:24.503507Z",
     "start_time": "2018-11-02T05:15:23.964260Z"
    },
    "collapsed": true
   },
   "outputs": [],
   "source": [
    "train_error = []\n",
    "test_error = []\n",
    "\n",
    "for j in range(len(steps)):\n",
    "    pre_tr = np.sign(b[j]+np.dot(X_tr, w[j]))\n",
    "    pre_te = np.sign(b[j]+np.dot(X_te, w[j]))\n",
    "    \n",
    "    train_error.append(sum(pre_tr != y_tr)/len(y_tr))\n",
    "    test_error.append(sum(pre_te != y_te)/len(y_te))"
   ]
  },
  {
   "cell_type": "code",
   "execution_count": 14,
   "metadata": {
    "ExecuteTime": {
     "end_time": "2018-11-02T05:16:29.716299Z",
     "start_time": "2018-11-02T05:16:29.585923Z"
    }
   },
   "outputs": [
    {
     "data": {
      "image/png": "[encoded data removed]",
      "text/plain": [
       "<matplotlib.figure.Figure at 0x12949e320>"
      ]
     },
     "metadata": {},
     "output_type": "display_data"
    }
   ],
   "source": [
    "plt.figure()\n",
    "plt.plot(steps[:], train_error[:], 'ro-', label = 'training')\n",
    "plt.plot(steps[:], test_error[:], 'bo-', label = 'test')\n",
    "plt.xlabel('interation number')\n",
    "plt.ylabel('misclassification error')\n",
    "plt.legend(loc='upper right')\n",
    "plt.show()"
   ]
  },
  {
   "cell_type": "markdown",
   "metadata": {},
   "source": [
    "## 5.c"
   ]
  },
  {
   "cell_type": "code",
   "execution_count": 15,
   "metadata": {
    "ExecuteTime": {
     "end_time": "2018-11-02T05:16:33.330386Z",
     "start_time": "2018-11-02T05:16:33.282597Z"
    },
    "collapsed": true
   },
   "outputs": [],
   "source": [
    "def sgd(X, Y, Lamb, Eta, batch_size, threshold):\n",
    "    w = np.zeros(shape=[len(X_tr[0]),1])\n",
    "    b = 0\n",
    "    \n",
    "    w_list = []\n",
    "    b_list = []\n",
    "    Loss=[]\n",
    "    \n",
    "    w_list.append(w)\n",
    "    b_list.append(b)    \n",
    "    Loss.append(ridge_loss(X,Y,w,b,Lamb))\n",
    "    \n",
    "    change =10000\n",
    "    while (change>threshold):\n",
    "        \n",
    "        j = np.random.randint(0, len(X_tr), batch_size)\n",
    "        \n",
    "        w_next = w - Eta * (-1/len(X[j]) * \\\n",
    "                            (np.dot(X[j].T, Y[j]*mu(X[j],Y[j],w,b)))\\\n",
    "                            + 2*Lamb*w)\n",
    "        b_next = b - Eta * (-1/len(X[j]) * \\\n",
    "                            np.dot(Y[j].T, mu(X[j],Y[j],w,b))) \n",
    "        \n",
    "        change = np.max(np.abs(w_next-w))\n",
    "        \n",
    "        w = np.array(w_next)\n",
    "        b = b_next    \n",
    "        \n",
    "        w_list.append(w)\n",
    "        b_list.append(b) \n",
    "        Loss.append(ridge_loss(X,Y,w,b,Lamb))\n",
    "        \n",
    "    return w_list,b_list,Loss"
   ]
  },
  {
   "cell_type": "code",
   "execution_count": 16,
   "metadata": {
    "ExecuteTime": {
     "end_time": "2018-11-02T05:16:36.086361Z",
     "start_time": "2018-11-02T05:16:34.277687Z"
    },
    "collapsed": true
   },
   "outputs": [],
   "source": [
    "eta = 0.01\n",
    "lamb = 0.1\n",
    "w,b,loss = sgd(X_tr, y_tr, lamb, eta, 1, 2e-4)"
   ]
  },
  {
   "cell_type": "code",
   "execution_count": 19,
   "metadata": {
    "ExecuteTime": {
     "end_time": "2018-11-02T05:17:19.415623Z",
     "start_time": "2018-11-02T05:17:18.993199Z"
    }
   },
   "outputs": [
    {
     "data": {
      "image/png": "[encoded data removed]",
      "text/plain": [
       "<matplotlib.figure.Figure at 0x12944c828>"
      ]
     },
     "metadata": {},
     "output_type": "display_data"
    }
   ],
   "source": [
    "train_loss = loss\n",
    "test_loss = []\n",
    "for j in range(len(loss)):\n",
    "    test_loss.append(ridge_loss(X_te, y_te, w[j], b[j], 0.1))\n",
    "\n",
    "steps = list(range(len(loss)))\n",
    "\n",
    "plt.figure()\n",
    "plt.plot(steps[:], train_loss[:], 'r-', label = 'training')\n",
    "plt.plot(steps[:], test_loss[:], 'b-', label = 'test')\n",
    "plt.xlabel('interation number')\n",
    "plt.ylabel('objective function')\n",
    "plt.legend(loc='upper right')\n",
    "plt.show()"
   ]
  },
  {
   "cell_type": "code",
   "execution_count": 20,
   "metadata": {
    "ExecuteTime": {
     "end_time": "2018-11-02T05:17:38.753566Z",
     "start_time": "2018-11-02T05:17:31.072345Z"
    }
   },
   "outputs": [
    {
     "data": {
      "image/png": "[encoded data removed]",
      "text/plain": [
       "<matplotlib.figure.Figure at 0x129616978>"
      ]
     },
     "metadata": {},
     "output_type": "display_data"
    }
   ],
   "source": [
    "train_error = []\n",
    "test_error = []\n",
    "\n",
    "for j in range(len(steps)):\n",
    "    pre_tr = np.sign(b[j]+np.dot(X_tr, w[j]))\n",
    "    pre_te = np.sign(b[j]+np.dot(X_te, w[j]))\n",
    "    \n",
    "    train_error.append(sum(pre_tr != y_tr)/len(y_tr))\n",
    "    test_error.append(sum(pre_te != y_te)/len(y_te))\n",
    "\n",
    "plt.figure()\n",
    "plt.plot(steps[:], train_error[:], 'r-', label = 'training')\n",
    "plt.plot(steps[:], test_error[:], 'b-', label = 'test')\n",
    "plt.xlabel('interation number')\n",
    "plt.ylabel('misclassification error')\n",
    "plt.legend(loc='upper right')\n",
    "plt.show()"
   ]
  },
  {
   "cell_type": "markdown",
   "metadata": {},
   "source": [
    "## 5.d"
   ]
  },
  {
   "cell_type": "code",
   "execution_count": 21,
   "metadata": {
    "ExecuteTime": {
     "end_time": "2018-11-02T05:18:28.727458Z",
     "start_time": "2018-11-02T05:18:27.939452Z"
    },
    "collapsed": true
   },
   "outputs": [],
   "source": [
    "eta = 0.02\n",
    "lamb = 0.1\n",
    "w,b,loss = sgd(X_tr, y_tr, lamb, eta, 100, 3e-4)"
   ]
  },
  {
   "cell_type": "code",
   "execution_count": 22,
   "metadata": {
    "ExecuteTime": {
     "end_time": "2018-11-02T05:18:34.595937Z",
     "start_time": "2018-11-02T05:18:34.286254Z"
    }
   },
   "outputs": [
    {
     "data": {
      "image/png": "[encoded data removed]",
      "text/plain": [
       "<matplotlib.figure.Figure at 0x12978e898>"
      ]
     },
     "metadata": {},
     "output_type": "display_data"
    }
   ],
   "source": [
    "train_loss = loss\n",
    "test_loss = []\n",
    "for j in range(len(loss)):\n",
    "    test_loss.append(ridge_loss(X_te, y_te, w[j], b[j], 0.1))\n",
    "\n",
    "steps = list(range(len(loss)))\n",
    "\n",
    "plt.figure()\n",
    "plt.plot(steps[:], train_loss[:], 'r-', label = 'training')\n",
    "plt.plot(steps[:], test_loss[:], 'b-', label = 'test')\n",
    "plt.xlabel('interation number')\n",
    "plt.ylabel('objective function')\n",
    "plt.legend(loc='upper right')\n",
    "plt.show()"
   ]
  },
  {
   "cell_type": "code",
   "execution_count": 23,
   "metadata": {
    "ExecuteTime": {
     "end_time": "2018-11-02T05:18:44.092753Z",
     "start_time": "2018-11-02T05:18:40.839981Z"
    }
   },
   "outputs": [
    {
     "data": {
      "image/png": "[encoded data removed]",
      "text/plain": [
       "<matplotlib.figure.Figure at 0x1299fc2b0>"
      ]
     },
     "metadata": {},
     "output_type": "display_data"
    }
   ],
   "source": [
    "train_error = []\n",
    "test_error = []\n",
    "\n",
    "for j in range(len(steps)):\n",
    "    pre_tr = np.sign(b[j]+np.dot(X_tr, w[j]))\n",
    "    pre_te = np.sign(b[j]+np.dot(X_te, w[j]))\n",
    "    \n",
    "    train_error.append(sum(pre_tr != y_tr)/len(y_tr))\n",
    "    test_error.append(sum(pre_te != y_te)/len(y_te))\n",
    "\n",
    "plt.figure()\n",
    "plt.plot(steps[:], train_error[:], 'r-', label = 'training')\n",
    "plt.plot(steps[:], test_error[:], 'b-', label = 'test')\n",
    "plt.xlabel('interation number')\n",
    "plt.ylabel('misclassification error')\n",
    "plt.legend(loc='upper right')\n",
    "plt.show()"
   ]
  },
  {
   "cell_type": "markdown",
   "metadata": {},
   "source": [
    "## 5.e"
   ]
  },
  {
   "cell_type": "code",
   "execution_count": 24,
   "metadata": {
    "ExecuteTime": {
     "end_time": "2018-11-02T05:18:53.446959Z",
     "start_time": "2018-11-02T05:18:53.188728Z"
    },
    "collapsed": true
   },
   "outputs": [],
   "source": [
    "import scipy.linalg as lg\n",
    "\n",
    "def newton_method(X, Y, Lamb, Eta):\n",
    "    w = np.zeros(shape=[len(X_tr[0]),1])\n",
    "    b = 0\n",
    "    \n",
    "    w_list = []\n",
    "    b_list = []\n",
    "    Loss=[]\n",
    "    \n",
    "    w_list.append(w)\n",
    "    b_list.append(b)    \n",
    "    Loss.append(ridge_loss(X,Y,w,b,Lamb))\n",
    "    \n",
    "    change =10000\n",
    "    while len(Loss)<=1 or (abs(Loss[-1] - Loss[-2])>1e-5):\n",
    "    #while change > 2e-4:\n",
    "        Mu = mu(X,Y,w,b)\n",
    "        grad_w = -1/len(X) * (np.dot(X.T, Y*Mu)) + 2*Lamb*w\n",
    "        hessian_w = 1/len(X) * np.dot(X.T, X*(Mu*(1-Mu))) \\\n",
    "                    + 2*Lamb*np.eye(len(X[0]))\n",
    "        \n",
    "        grad_b = -1/len(X) * np.dot(Y.T, Mu) \n",
    "        hessian_b = np.mean(Mu*(1-Mu))\n",
    "        \n",
    "        v_w = lg.solve(hessian_w, grad_w)\n",
    "        v_b = lg.solve(hessian_b, grad_b)\n",
    "        \n",
    "        w -= Eta * np.reshape(v_w, (len(w),1))\n",
    "        b -= Eta * float(v_b)\n",
    "        \n",
    "        w_list.append(np.array(w))\n",
    "        b_list.append(b) \n",
    "        Loss.append(ridge_loss(X,Y,np.array(w),b,Lamb))\n",
    "        \n",
    "    \n",
    "    return w_list, b_list, Loss\n",
    "        "
   ]
  },
  {
   "cell_type": "code",
   "execution_count": 25,
   "metadata": {
    "ExecuteTime": {
     "end_time": "2018-11-02T05:19:08.148320Z",
     "start_time": "2018-11-02T05:18:59.215041Z"
    },
    "collapsed": true
   },
   "outputs": [],
   "source": [
    "eta = 1\n",
    "lamb = 0.1\n",
    "w,b,loss = newton_method(X_tr, y_tr, lamb, eta)"
   ]
  },
  {
   "cell_type": "code",
   "execution_count": 26,
   "metadata": {
    "ExecuteTime": {
     "end_time": "2018-11-02T05:19:09.385328Z",
     "start_time": "2018-11-02T05:19:09.228086Z"
    }
   },
   "outputs": [
    {
     "data": {
      "image/png": "[encoded data removed]",
      "text/plain": [
       "<matplotlib.figure.Figure at 0x10b8c9cc0>"
      ]
     },
     "metadata": {},
     "output_type": "display_data"
    }
   ],
   "source": [
    "train_loss = loss\n",
    "test_loss = []\n",
    "for j in range(len(loss)):\n",
    "    test_loss.append(ridge_loss(X_te, y_te, np.array(w[j]), b[j], 0.1))\n",
    "steps = list(range(len(loss)))\n",
    "\n",
    "plt.figure()\n",
    "plt.plot(steps[:], train_loss[:], 'ro-', label = 'training')\n",
    "plt.plot(steps[:], test_loss[:], 'bo-', label = 'test')\n",
    "plt.xlabel('interation number')\n",
    "plt.ylabel('objective function')\n",
    "plt.legend(loc='upper right')\n",
    "plt.show()"
   ]
  },
  {
   "cell_type": "code",
   "execution_count": 27,
   "metadata": {
    "ExecuteTime": {
     "end_time": "2018-11-02T05:19:11.141577Z",
     "start_time": "2018-11-02T05:19:10.491917Z"
    }
   },
   "outputs": [
    {
     "data": {
      "image/png": "[encoded data removed]",
      "text/plain": [
       "<matplotlib.figure.Figure at 0x1298b2208>"
      ]
     },
     "metadata": {},
     "output_type": "display_data"
    }
   ],
   "source": [
    "train_error = []\n",
    "test_error = []\n",
    "\n",
    "for j in range(len(steps)):\n",
    "    pre_tr = np.sign(b[j]+np.dot(X_tr, w[j]))\n",
    "    pre_te = np.sign(b[j]+np.dot(X_te, w[j]))\n",
    "    \n",
    "    train_error.append(sum(pre_tr != y_tr)/len(y_tr))\n",
    "    test_error.append(sum(pre_te != y_te)/len(y_te))\n",
    "\n",
    "plt.figure()\n",
    "plt.plot(steps[:], train_error[:], 'ro-', label = 'training')\n",
    "plt.plot(steps[:], test_error[:], 'bo-', label = 'test')\n",
    "plt.xlabel('interation number')\n",
    "plt.ylabel('misclassification error')\n",
    "plt.legend(loc='upper right')\n",
    "plt.show()"
   ]
  },
  {
   "cell_type": "code",
   "execution_count": 34,
   "metadata": {
    "ExecuteTime": {
     "end_time": "2018-11-01T06:04:48.517756Z",
     "start_time": "2018-11-01T06:04:48.510519Z"
    }
   },
   "outputs": [
    {
     "data": {
      "text/plain": [
       "0.30948921195647794"
      ]
     },
     "execution_count": 34,
     "metadata": {},
     "output_type": "execute_result"
    }
   ],
   "source": [
    "b[11]"
   ]
  },
  {
   "cell_type": "code",
   "execution_count": 31,
   "metadata": {
    "ExecuteTime": {
     "end_time": "2018-11-01T06:04:21.332735Z",
     "start_time": "2018-11-01T06:04:21.325061Z"
    }
   },
   "outputs": [
    {
     "data": {
      "text/plain": [
       "array([-0.01852627])"
      ]
     },
     "execution_count": 31,
     "metadata": {},
     "output_type": "execute_result"
    }
   ],
   "source": [
    "w[10][100]"
   ]
  },
  {
   "cell_type": "code",
   "execution_count": null,
   "metadata": {
    "collapsed": true
   },
   "outputs": [],
   "source": []
  }
 ],
 "metadata": {
  "kernelspec": {
   "display_name": "Python 3",
   "language": "python",
   "name": "python3"
  },
  "language_info": {
   "codemirror_mode": {
    "name": "ipython",
    "version": 3
   },
   "file_extension": ".py",
   "mimetype": "text/x-python",
   "name": "python",
   "nbconvert_exporter": "python",
   "pygments_lexer": "ipython3",
   "version": "3.6.5"
  },
  "latex_envs": {
   "LaTeX_envs_menu_present": true,
   "autoclose": false,
   "autocomplete": true,
   "bibliofile": "biblio.bib",
   "cite_by": "apalike",
   "current_citInitial": 1,
   "eqLabelWithNumbers": true,
   "eqNumInitial": 1,
   "hotkeys": {
    "equation": "Ctrl-E",
    "itemize": "Ctrl-I"
   },
   "labels_anchors": false,
   "latex_user_defs": false,
   "report_style_numbering": false,
   "user_envs_cfg": false
  },
  "varInspector": {
   "cols": {
    "lenName": 16,
    "lenType": 16,
    "lenVar": 40
   },
   "kernels_config": {
    "python": {
     "delete_cmd_postfix": "",
     "delete_cmd_prefix": "del ",
     "library": "var_list.py",
     "varRefreshCmd": "print(var_dic_list())"
    },
    "r": {
     "delete_cmd_postfix": ") ",
     "delete_cmd_prefix": "rm(",
     "library": "var_list.r",
     "varRefreshCmd": "cat(var_dic_list()) "
    }
   },
   "types_to_exclude": [
    "module",
    "function",
    "builtin_function_or_method",
    "instance",
    "_Feature"
   ],
   "window_display": false
  }
 },
 "nbformat": 4,
 "nbformat_minor": 2
}
