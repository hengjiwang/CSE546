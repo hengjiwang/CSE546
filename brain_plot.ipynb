{
 "cells": [
  {
   "cell_type": "code",
   "execution_count": 1,
   "metadata": {
    "ExecuteTime": {
     "end_time": "2018-11-15T00:53:24.144859Z",
     "start_time": "2018-11-15T00:53:22.101151Z"
    }
   },
   "outputs": [
    {
     "name": "stderr",
     "output_type": "stream",
     "text": [
      "/Users/hengjiwang/anaconda3/lib/python3.6/site-packages/h5py/__init__.py:36: FutureWarning: Conversion of the second argument of issubdtype from `float` to `np.floating` is deprecated. In future, it will be treated as `np.float64 == np.dtype(float).type`.\n",
      "  from ._conv import register_converters as _register_converters\n",
      "usage: ipykernel_launcher.py [-h] path subjects\n",
      "ipykernel_launcher.py: error: the following arguments are required: subjects\n"
     ]
    },
    {
     "ename": "SystemExit",
     "evalue": "2",
     "output_type": "error",
     "traceback": [
      "An exception has occurred, use %tb to see the full traceback.\n",
      "\u001b[0;31mSystemExit\u001b[0m\u001b[0;31m:\u001b[0m 2\n"
     ]
    },
    {
     "name": "stderr",
     "output_type": "stream",
     "text": [
      "/Users/hengjiwang/anaconda3/lib/python3.6/site-packages/IPython/core/interactiveshell.py:2971: UserWarning: To exit: use 'exit', 'quit', or Ctrl-D.\n",
      "  warn(\"To exit: use 'exit', 'quit', or Ctrl-D.\", stacklevel=1)\n"
     ]
    }
   ],
   "source": [
    "from nilearn import plotting, datasets, image\n",
    "import data_load\n",
    "import argparse\n",
    "import nibabel as nib\n",
    "import numpy as np\n",
    "import os\n",
    "import pyprind\n",
    "\n",
    "\n",
    "\n",
    "transformToXYZmm = np.array([[-3.125, 0, 0, 81.250], [0, 3.125, 0, -115.625], [0, 0, 6, -54.000], [0, 0, 0, 1.000]])\n",
    "data = data_load.load_data(path, subjects)\n",
    "dimx = int(data[0][\"meta\"][\"dimx\"][0])\n",
    "dimy = int(data[0][\"meta\"][\"dimy\"][0])\n",
    "dimz = int(data[0][\"meta\"][\"dimz\"][0])\n",
    "coordToCol = data[0][\"meta\"][\"coordToCol\"][0][0]\n",
    "images = {}\n",
    "max_val = 0\n",
    "voxels = np.load(\"data/general_selected_500_1.npy\")\n",
    "directory = os.listdir(\"data/input/\")\n",
    "bar = pyprind.ProgBar(len(directory), title='Info extraction and Image Building')\n",
    "bar2 = pyprind.ProgBar(len(images.keys()), title='Saving Pictures')\n",
    "for file in directory:\n",
    "    file_name = \"data/input/{}\".format(file)\n",
    "    fh = open(file_name)\n",
    "    activation_values = np.asarray(list(map(lambda x: float(x), filter(lambda x: x != '', fh.read().split(\",\")))))\n",
    "    fh.close()\n",
    "    plot_matrix = np.zeros((dimx, dimy, dimz))\n",
    "    for x in range(dimx):\n",
    "        for y in range(dimy):\n",
    "            for z in range(dimz):\n",
    "                indice = coordToCol[x][y][z]\n",
    "                if indice != 0:\n",
    "                    if indice in list(voxels):\n",
    "                        voxel_indice = list(voxels).index(indice)\n",
    "                        value = activation_values[voxel_indice]\n",
    "                        if abs(value) > max_val:\n",
    "                            max_val = abs(value)\n",
    "                        plot_matrix[x][y][z] = value\n",
    "    image = nib.Nifti1Image(plot_matrix, transformToXYZmm)\n",
    "    images[file_name] = image\n",
    "    bar.update(force_flush=True)\n",
    "print(bar)\n",
    "for image in images:\n",
    "    plotting.plot_glass_brain(images[image], display_mode='ortho', vmax=max_val, plot_abs=False, threshold=None, colorbar=True, output_file=\"{}-wom1.png\".format(image))\n",
    "    bar2.update(force_flush=True)\n",
    "print(bar2)"
   ]
  },
  {
   "cell_type": "code",
   "execution_count": null,
   "metadata": {},
   "outputs": [],
   "source": []
  }
 ],
 "metadata": {
  "kernelspec": {
   "display_name": "Python 3",
   "language": "python",
   "name": "python3"
  },
  "language_info": {
   "codemirror_mode": {
    "name": "ipython",
    "version": 3
   },
   "file_extension": ".py",
   "mimetype": "text/x-python",
   "name": "python",
   "nbconvert_exporter": "python",
   "pygments_lexer": "ipython3",
   "version": "3.6.5"
  },
  "varInspector": {
   "cols": {
    "lenName": 16,
    "lenType": 16,
    "lenVar": 40
   },
   "kernels_config": {
    "python": {
     "delete_cmd_postfix": "",
     "delete_cmd_prefix": "del ",
     "library": "var_list.py",
     "varRefreshCmd": "print(var_dic_list())"
    },
    "r": {
     "delete_cmd_postfix": ") ",
     "delete_cmd_prefix": "rm(",
     "library": "var_list.r",
     "varRefreshCmd": "cat(var_dic_list()) "
    }
   },
   "types_to_exclude": [
    "module",
    "function",
    "builtin_function_or_method",
    "instance",
    "_Feature"
   ],
   "window_display": false
  }
 },
 "nbformat": 4,
 "nbformat_minor": 2
}
