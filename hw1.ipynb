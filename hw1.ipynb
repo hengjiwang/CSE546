{
 "cells": [
  {
   "cell_type": "markdown",
   "metadata": {
    "collapsed": true
   },
   "source": [
    "# 1.a"
   ]
  },
  {
   "cell_type": "code",
   "execution_count": 1,
   "metadata": {
    "ExecuteTime": {
     "end_time": "2018-11-11T01:33:19.097889Z",
     "start_time": "2018-11-11T01:33:18.685590Z"
    },
    "collapsed": true
   },
   "outputs": [],
   "source": [
    "import numpy as np\n",
    "import matplotlib.pyplot as plt\n",
    "from math import sqrt\n",
    "from numpy import linalg as LA"
   ]
  },
  {
   "cell_type": "code",
   "execution_count": 2,
   "metadata": {
    "ExecuteTime": {
     "end_time": "2018-11-11T01:33:19.918452Z",
     "start_time": "2018-11-11T01:33:19.689191Z"
    },
    "collapsed": true
   },
   "outputs": [],
   "source": [
    "##### 1a #####\n",
    "\n",
    "N = 100\n",
    "Y1 = np.random.randn(N,2)\n",
    "A1 = np.array([[1, 0],[0,sqrt(2)]])\n",
    "B1 = np.array([1, 2])\n",
    "X1 = np.dot(Y1, A1.T) + B1\n",
    "\n",
    "Y2 = np.random.randn(N,2)\n",
    "A2 = np.array([[sqrt(2), 0],[-9/5/sqrt(2), sqrt(19/2)/5]])\n",
    "B2 = np.array([-1, 1])\n",
    "X2 = np.dot(Y2, A2.T) + B2\n",
    "\n",
    "Y3 = np.random.randn(N,2)\n",
    "A3 = np.array([[sqrt(3), 0], [1/sqrt(3), sqrt(5/3)]])\n",
    "B3 = np.array([2, -2])\n",
    "X3 = np.dot(Y3, A3.T) + B3"
   ]
  },
  {
   "cell_type": "markdown",
   "metadata": {},
   "source": [
    "# 1.b"
   ]
  },
  {
   "cell_type": "code",
   "execution_count": 3,
   "metadata": {
    "ExecuteTime": {
     "end_time": "2018-11-11T01:33:22.267633Z",
     "start_time": "2018-11-11T01:33:21.872821Z"
    },
    "collapsed": true
   },
   "outputs": [],
   "source": [
    "##### 1.b #####\n",
    "\n",
    "mu1 = sum(X1)/N\n",
    "mu2 = sum(X2)/N\n",
    "mu3 = sum(X3)/N\n",
    "\n",
    "sigma1 = np.dot(np.transpose((X1 - mu1)), (X1 - mu1))/(N-1)\n",
    "sigma2 = np.dot(np.transpose(X2 - mu2), X2 - mu2)/(N-1)\n",
    "sigma3 = np.dot(np.transpose(X3 - mu3), X3 - mu3)/(N-1)\n",
    "\n",
    "w1, v1 = LA.eig(sigma1)\n",
    "e11 = w1[0]\n",
    "e12 = w1[1]\n",
    "u11 = v1[:,0]\n",
    "u12 = v1[:,1]\n",
    "\n",
    "w2, v2 = LA.eig(sigma2)\n",
    "e21 = w2[0]\n",
    "e22 = w2[1]\n",
    "u21 = v2[:,0]\n",
    "u22 = v2[:,1]\n",
    "\n",
    "w3, v3 = LA.eig(sigma3)\n",
    "e31 = w3[0]\n",
    "e32 = w3[1]\n",
    "u31 = v3[:,0]\n",
    "u32 = v3[:,1]"
   ]
  },
  {
   "cell_type": "markdown",
   "metadata": {},
   "source": [
    "# 1.c"
   ]
  },
  {
   "cell_type": "code",
   "execution_count": 6,
   "metadata": {
    "ExecuteTime": {
     "end_time": "2018-11-11T01:34:07.007370Z",
     "start_time": "2018-11-11T01:34:06.990185Z"
    },
    "collapsed": true
   },
   "outputs": [],
   "source": [
    "##### 1.c #####\n",
    "\n",
    "Xhat1 = np.array([np.dot(u11, np.transpose(X1 - mu1))/sqrt(e11), \\\n",
    "                 np.dot(u12, np.transpose(X1 - mu1))/sqrt(e12)])\n",
    "\n",
    "Xhat2 = np.array([np.dot(u21, np.transpose(X2 - mu2))/sqrt(e21), \\\n",
    "                 np.dot(u22, np.transpose(X2 - mu2))/sqrt(e22)])\n",
    "\n",
    "Xhat3 = np.array([np.dot(u31, np.transpose(X3 - mu3))/sqrt(e31), \\\n",
    "                 np.dot(u32, np.transpose(X3 - mu3))/sqrt(e32)])"
   ]
  },
  {
   "cell_type": "code",
   "execution_count": 7,
   "metadata": {
    "ExecuteTime": {
     "end_time": "2018-11-11T01:34:16.592626Z",
     "start_time": "2018-11-11T01:34:16.586028Z"
    }
   },
   "outputs": [
    {
     "data": {
      "text/plain": [
       "(2, 100)"
      ]
     },
     "execution_count": 7,
     "metadata": {},
     "output_type": "execute_result"
    }
   ],
   "source": [
    "Xhat1.shape"
   ]
  },
  {
   "cell_type": "code",
   "execution_count": 7,
   "metadata": {
    "ExecuteTime": {
     "end_time": "2018-10-18T08:43:28.125115Z",
     "start_time": "2018-10-18T08:43:27.756473Z"
    }
   },
   "outputs": [
    {
     "data": {
      "image/png": "[encoded data removed]",
      "text/plain": [
       "<matplotlib.figure.Figure at 0x10ee43438>"
      ]
     },
     "metadata": {},
     "output_type": "display_data"
    }
   ],
   "source": [
    "x1 = X1[:,0]\n",
    "y1 = X1[:,1]\n",
    "x2 = X2[:,0]\n",
    "y2 = X2[:,1]\n",
    "x3 = X3[:,0]\n",
    "y3 = X3[:,1]\n",
    "\n",
    "plt.figure(figsize=(15, 4))\n",
    "\n",
    "plt.subplot(1,3,1)\n",
    "plt.scatter(x1, y1,marker = '^')\n",
    "plt.scatter(Xhat1[0], Xhat1[1],marker = 'o')\n",
    "plt.plot((mu1[0], mu1[0]+ sqrt(e11) * u11[0]),(mu1[1], mu1[1] + sqrt(e11) * u11[1]), c = 'k', linewidth = 3)\n",
    "plt.plot((mu1[0], mu1[0]+ sqrt(e12) * u12[0]),(mu1[1], mu1[1] + sqrt(e12) * u12[1]), c = 'k', linewidth = 3)\n",
    "plt.title('X1')\n",
    "plt.xlim((-8, 8))\n",
    "plt.ylim((-8, 8))\n",
    "\n",
    "plt.subplot(1,3,2)\n",
    "plt.scatter(x2, y2,marker = '^')\n",
    "plt.scatter(Xhat2[0], Xhat2[1],marker = 'o')\n",
    "plt.plot((mu2[0], mu2[0]+ sqrt(e21) * u21[0]),(mu2[1], mu2[1] + sqrt(e21) * u21[1]), c = 'k', linewidth = 3)\n",
    "plt.plot((mu2[0], mu2[0]+ sqrt(e22) * u22[0]),(mu2[1], mu2[1] + sqrt(e22) * u22[1]), c = 'k', linewidth = 3)\n",
    "plt.title('X2')\n",
    "plt.xlim((-8, 8))\n",
    "plt.ylim((-8, 8))\n",
    "\n",
    "plt.subplot(1,3,3)\n",
    "plt.scatter(x3, y3,marker = '^')\n",
    "plt.scatter(Xhat3[0], Xhat3[1],marker = 'o')\n",
    "plt.plot((mu3[0], mu3[0]+ sqrt(e31) * u31[0]),(mu3[1], mu3[1] + sqrt(e31) * u31[1]), c = 'k', linewidth = 3)\n",
    "plt.plot((mu3[0], mu3[0]+ sqrt(e32) * u32[0]),(mu3[1], mu3[1] + sqrt(e32) * u32[1]), c = 'k', linewidth = 3)\n",
    "plt.title('X3')\n",
    "plt.xlim((-8, 8))\n",
    "plt.ylim((-8, 8))\n",
    "plt.show()"
   ]
  },
  {
   "cell_type": "markdown",
   "metadata": {},
   "source": [
    "# 5"
   ]
  },
  {
   "cell_type": "code",
   "execution_count": 21,
   "metadata": {
    "ExecuteTime": {
     "end_time": "2018-10-18T18:16:43.922008Z",
     "start_time": "2018-10-18T18:16:43.909410Z"
    },
    "collapsed": true
   },
   "outputs": [],
   "source": [
    "####### Problem 5 #######\n",
    "\n",
    "from mnist import MNIST\n",
    "import numpy as np\n",
    "import scipy.linalg as lg\n",
    "import matplotlib.pyplot as plt"
   ]
  },
  {
   "cell_type": "code",
   "execution_count": 22,
   "metadata": {
    "ExecuteTime": {
     "end_time": "2018-10-18T18:16:52.572129Z",
     "start_time": "2018-10-18T18:16:44.763714Z"
    },
    "collapsed": true
   },
   "outputs": [],
   "source": [
    "mndata = MNIST('./data/')\n",
    "X_train, labels_train = map(np.array, mndata.load_training())\n",
    "X_test, labels_test = map(np.array, mndata.load_testing())\n",
    "X_train = X_train/255.0\n",
    "X_test = X_test/255.0"
   ]
  },
  {
   "cell_type": "markdown",
   "metadata": {},
   "source": [
    "## 5.b"
   ]
  },
  {
   "cell_type": "code",
   "execution_count": 23,
   "metadata": {
    "ExecuteTime": {
     "end_time": "2018-10-18T18:16:57.532817Z",
     "start_time": "2018-10-18T18:16:56.221514Z"
    },
    "collapsed": true
   },
   "outputs": [],
   "source": [
    "K = 10\n",
    "\n",
    "def one_hot_encode(labels, k):\n",
    "    \n",
    "    Y = np.mat([[0 for ni in range(len(labels))] for ki in range(k)])\n",
    "    \n",
    "    for col in range(len(labels)):\n",
    "        for row in range(k):\n",
    "            if labels[col] == row:\n",
    "                Y[row, col] = 1\n",
    "                continue\n",
    "    return Y\n",
    "\n",
    "Y_train = one_hot_encode(labels_train, K)\n",
    "Y_test = one_hot_encode(labels_test, K)"
   ]
  },
  {
   "cell_type": "markdown",
   "metadata": {},
   "source": [
    "## 5.c"
   ]
  },
  {
   "cell_type": "code",
   "execution_count": 24,
   "metadata": {
    "ExecuteTime": {
     "end_time": "2018-10-18T18:16:58.748366Z",
     "start_time": "2018-10-18T18:16:58.722114Z"
    },
    "collapsed": true
   },
   "outputs": [],
   "source": [
    "def train(X, Y, lamb):\n",
    "    a = np.dot(X.T, X) + lamb * np.eye(len(X[0,:]))\n",
    "    b = np.dot(X.T, Y)\n",
    "    return lg.solve(a, b)\n",
    "\n",
    "def predict(W, X):\n",
    "    \n",
    "    labels = np.array([0 for j in range(len(X))])\n",
    "    for row in range(len(X)):\n",
    "        y_temp = np.dot(W.T, X[row].T)\n",
    "        labels[row] = np.argmax(y_temp)\n",
    "    return labels.T\n",
    "    \n",
    "def accuracy(l1, l2):\n",
    "    count = 0\n",
    "    if len(l1) != len(l2):\n",
    "        raise ValueError('Arraries must have same length')\n",
    "    for i in range(len(l1)):\n",
    "        if l1[i] == l2[i]: count += 1\n",
    "    return count/len(l1)"
   ]
  },
  {
   "cell_type": "code",
   "execution_count": 25,
   "metadata": {
    "ExecuteTime": {
     "end_time": "2018-10-18T18:17:01.339638Z",
     "start_time": "2018-10-18T18:17:00.115144Z"
    }
   },
   "outputs": [
    {
     "name": "stdout",
     "output_type": "stream",
     "text": [
      "The accuracy of training data is: 85.195%\n",
      "The accuracy of test data is: 85.340%\n"
     ]
    }
   ],
   "source": [
    "W = train(X_train, Y_train.T, 1e-4)\n",
    "train_labels = predict(W, X_train)\n",
    "test_labels = predict(W, X_test)\n",
    "print('The accuracy of training data is: %.3f%%' % (accuracy(train_labels, labels_train)*100))\n",
    "print('The accuracy of test data is: %.3f%%' % (accuracy(test_labels, labels_test)*100))"
   ]
  },
  {
   "cell_type": "markdown",
   "metadata": {},
   "source": [
    "## 5.d"
   ]
  },
  {
   "cell_type": "code",
   "execution_count": 26,
   "metadata": {
    "ExecuteTime": {
     "end_time": "2018-10-18T18:17:03.748886Z",
     "start_time": "2018-10-18T18:17:03.188817Z"
    },
    "collapsed": true
   },
   "outputs": [],
   "source": [
    "from math import pi, sqrt\n",
    "\n",
    "N = int(len(X_train))\n",
    "\n",
    "L_train = np.mat([[0 for i in range(p_num)] for j in range(int(N*0.8))])\n",
    "L_valid = np.mat([[0 for i in range(p_num)] for j in range(int(N*0.2))])    "
   ]
  },
  {
   "cell_type": "code",
   "execution_count": 27,
   "metadata": {
    "ExecuteTime": {
     "end_time": "2018-10-18T18:20:51.212522Z",
     "start_time": "2018-10-18T18:17:04.369674Z"
    },
    "collapsed": true
   },
   "outputs": [],
   "source": [
    "index = [i for i in range(len(X_train))]\n",
    "np.random.shuffle(index)\n",
    "\n",
    "X_tr = X_train[index[0:int(N*0.8)]]\n",
    "X_va = X_train[index[int(N*0.8):N]]\n",
    "n = len(X_tr)\n",
    "d = len(X_tr[0,:])\n",
    "\n",
    "mu = 0\n",
    "sigma = sqrt(0.1)\n",
    "\n",
    "k = 0\n",
    "P = [10, 50, 100, 200, 500, 1000, 2000, 4000, 6000]\n",
    "p_num = len(P)\n",
    "for p in P:\n",
    "    \n",
    "    G = np.random.normal(mu, sigma, (p,d))\n",
    "    b = np.random.uniform(0, 2*pi, p)\n",
    "    \n",
    "    B = np.mat([b.T for i in range(n)])\n",
    "    H_train = np.cos(np.dot(G, X_tr.T).T + B)\n",
    "    \n",
    "    B = np.mat([b.T for i in range(len(X_va))])\n",
    "    H_valid = np.cos(np.dot(G, X_va.T).T + B)\n",
    "    \n",
    "    W = train(H_train, Y_train.T[index[0:int(N*0.8)]], 1e-4)\n",
    "    \n",
    "    L_train[:, k] = np.mat(predict(W, H_train)).T\n",
    "    L_valid[:, k] = np.mat(predict(W, H_valid)).T\n",
    "    k += 1"
   ]
  },
  {
   "cell_type": "code",
   "execution_count": 28,
   "metadata": {
    "ExecuteTime": {
     "end_time": "2018-10-18T18:20:56.346633Z",
     "start_time": "2018-10-18T18:20:51.325631Z"
    },
    "collapsed": true
   },
   "outputs": [],
   "source": [
    "error_train = [0 for i in range(p_num)]\n",
    "error_valid = [0 for i in range(p_num)]\n",
    "\n",
    "for k in range(p_num):\n",
    "    error_train[k] = 1-accuracy(L_train[:,k], labels_train[index[0:int(N*0.8)]])\n",
    "    error_valid[k] = 1-accuracy(L_valid[:,k], labels_train[index[int(N*0.8):N]])"
   ]
  },
  {
   "cell_type": "code",
   "execution_count": 29,
   "metadata": {
    "ExecuteTime": {
     "end_time": "2018-10-18T18:20:56.928858Z",
     "start_time": "2018-10-18T18:20:56.429842Z"
    }
   },
   "outputs": [
    {
     "data": {
      "image/png": "[encoded data removed]",
      "text/plain": [
       "<matplotlib.figure.Figure at 0x11593d630>"
      ]
     },
     "metadata": {},
     "output_type": "display_data"
    }
   ],
   "source": [
    "plt.figure()\n",
    "plt.plot(P, error_train, 'bo-', label = 'training error')\n",
    "plt.plot(P, error_valid, 'rs-', label = 'validating error')\n",
    "plt.xlabel('p')\n",
    "plt.ylabel('classification error')\n",
    "plt.legend(loc='upper right')\n",
    "plt.show()"
   ]
  },
  {
   "cell_type": "markdown",
   "metadata": {
    "ExecuteTime": {
     "end_time": "2018-10-10T08:29:50.773581Z",
     "start_time": "2018-10-10T08:29:50.765023Z"
    },
    "collapsed": true
   },
   "source": [
    "# 5.e"
   ]
  },
  {
   "cell_type": "code",
   "execution_count": 13,
   "metadata": {
    "ExecuteTime": {
     "end_time": "2018-10-18T18:06:34.175596Z",
     "start_time": "2018-10-18T18:04:39.534374Z"
    },
    "collapsed": true
   },
   "outputs": [],
   "source": [
    "pm = 6000\n",
    "\n",
    "G = np.random.normal(mu, sigma, (pm,d))\n",
    "b = np.random.uniform(0, 2*pi, pm)\n",
    "\n",
    "B = np.mat([b.T for i in range(len(X_tr))])\n",
    "H_train = np.cos(np.dot(G, X_tr.T).T + B)\n",
    "W = train(H_train, Y_train.T[index[0:int(N*0.8)]], 1e-4)\n",
    "\n",
    "B = np.mat([b.T for i in range(len(X_test))])\n",
    "H_test = np.cos(np.dot(G, X_test.T).T + B)\n",
    "\n",
    "L_test = np.mat(predict(W, H_test)).T"
   ]
  },
  {
   "cell_type": "code",
   "execution_count": 34,
   "metadata": {
    "ExecuteTime": {
     "end_time": "2018-10-18T20:41:30.059028Z",
     "start_time": "2018-10-18T20:41:29.821232Z"
    }
   },
   "outputs": [
    {
     "name": "stdout",
     "output_type": "stream",
     "text": [
      "The classification accuracy of testing data is 94.880%:\n",
      "The confidence interval is [0.9352, 0.9624]\n"
     ]
    }
   ],
   "source": [
    "print('The classification accuracy of testing data is %.3f%%:' % (accuracy(L_test, labels_test)*100))\n",
    "print('The confidence interval is [%.4f, %.4f]' % (accuracy(L_test, labels_test)-0.01358, accuracy(L_test, labels_test)+0.01358))"
   ]
  },
  {
   "cell_type": "code",
   "execution_count": null,
   "metadata": {
    "collapsed": true
   },
   "outputs": [],
   "source": []
  }
 ],
 "metadata": {
  "kernelspec": {
   "display_name": "Python 3",
   "language": "python",
   "name": "python3"
  },
  "language_info": {
   "codemirror_mode": {
    "name": "ipython",
    "version": 3
   },
   "file_extension": ".py",
   "mimetype": "text/x-python",
   "name": "python",
   "nbconvert_exporter": "python",
   "pygments_lexer": "ipython3",
   "version": "3.6.3"
  },
  "latex_envs": {
   "LaTeX_envs_menu_present": true,
   "autoclose": false,
   "autocomplete": true,
   "bibliofile": "biblio.bib",
   "cite_by": "apalike",
   "current_citInitial": 1,
   "eqLabelWithNumbers": true,
   "eqNumInitial": 1,
   "hotkeys": {
    "equation": "Ctrl-E",
    "itemize": "Ctrl-I"
   },
   "labels_anchors": false,
   "latex_user_defs": false,
   "report_style_numbering": false,
   "user_envs_cfg": false
  },
  "varInspector": {
   "cols": {
    "lenName": 16,
    "lenType": 16,
    "lenVar": 40
   },
   "kernels_config": {
    "python": {
     "delete_cmd_postfix": "",
     "delete_cmd_prefix": "del ",
     "library": "var_list.py",
     "varRefreshCmd": "print(var_dic_list())"
    },
    "r": {
     "delete_cmd_postfix": ") ",
     "delete_cmd_prefix": "rm(",
     "library": "var_list.r",
     "varRefreshCmd": "cat(var_dic_list()) "
    }
   },
   "types_to_exclude": [
    "module",
    "function",
    "builtin_function_or_method",
    "instance",
    "_Feature"
   ],
   "window_display": false
  }
 },
 "nbformat": 4,
 "nbformat_minor": 2
}
